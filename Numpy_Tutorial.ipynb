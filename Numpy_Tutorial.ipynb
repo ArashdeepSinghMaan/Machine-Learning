{
 "cells": [
  {
   "cell_type": "markdown",
   "id": "016942b4-8d54-4a19-a0e5-5f919755d882",
   "metadata": {},
   "source": [
    "# WELCOME TO NUMPY TUTORIALS\n"
   ]
  },
  {
   "cell_type": "code",
   "execution_count": 1,
   "id": "ddbdcce5-8a3a-4374-aa90-cfcc5e84aeaa",
   "metadata": {},
   "outputs": [
    {
     "name": "stdout",
     "output_type": "stream",
     "text": [
      "Jello\n"
     ]
    }
   ],
   "source": [
    "print(\"Jello\")"
   ]
  },
  {
   "cell_type": "code",
   "execution_count": 2,
   "id": "66ef89db-9697-4e1f-8241-31b2b20c5cb9",
   "metadata": {},
   "outputs": [
    {
     "data": {
      "text/plain": [
       "42"
      ]
     },
     "execution_count": 2,
     "metadata": {},
     "output_type": "execute_result"
    }
   ],
   "source": [
    "2+8*5"
   ]
  },
  {
   "cell_type": "code",
   "execution_count": 3,
   "id": "678ccc9a-a239-45e9-a805-226c76c80e63",
   "metadata": {},
   "outputs": [
    {
     "name": "stdout",
     "output_type": "stream",
     "text": [
      "HEllo World\n"
     ]
    },
    {
     "data": {
      "text/plain": [
       "20"
      ]
     },
     "execution_count": 3,
     "metadata": {},
     "output_type": "execute_result"
    }
   ],
   "source": [
    "### This is the code that will output\n",
    "print(\"HEllo World\")\n",
    "2+4+6+8"
   ]
  },
  {
   "cell_type": "code",
   "execution_count": 4,
   "id": "49156e92-f25f-4698-8b88-9f53ccf64596",
   "metadata": {},
   "outputs": [],
   "source": [
    "import numpy as np\n",
    "integers=np.array([10,20,30,40,50])"
   ]
  },
  {
   "cell_type": "code",
   "execution_count": 5,
   "id": "6f3df6b9-27a1-440d-9b33-16c72ae95310",
   "metadata": {},
   "outputs": [
    {
     "name": "stdout",
     "output_type": "stream",
     "text": [
      "[10 20 30 40 50]\n"
     ]
    }
   ],
   "source": [
    "print(integers)"
   ]
  },
  {
   "cell_type": "code",
   "execution_count": 6,
   "id": "26a36d93-be53-4e13-a042-69ac731f21c7",
   "metadata": {},
   "outputs": [
    {
     "data": {
      "text/plain": [
       "30"
      ]
     },
     "execution_count": 6,
     "metadata": {},
     "output_type": "execute_result"
    }
   ],
   "source": [
    "integers[2]"
   ]
  },
  {
   "cell_type": "code",
   "execution_count": 7,
   "id": "95f4c9ec-3b10-4f56-8e97-992f491bed45",
   "metadata": {},
   "outputs": [],
   "source": [
    "integers[-3] =2\n"
   ]
  },
  {
   "cell_type": "code",
   "execution_count": 8,
   "id": "7400dce1-14db-4127-a847-cb21667edf4c",
   "metadata": {},
   "outputs": [
    {
     "data": {
      "text/plain": [
       "dtype('int32')"
      ]
     },
     "execution_count": 8,
     "metadata": {},
     "output_type": "execute_result"
    }
   ],
   "source": [
    "integers.dtype"
   ]
  },
  {
   "cell_type": "code",
   "execution_count": 9,
   "id": "077bd1dd-92fe-4342-9f02-08a662bd06ac",
   "metadata": {},
   "outputs": [
    {
     "data": {
      "text/plain": [
       "20"
      ]
     },
     "execution_count": 9,
     "metadata": {},
     "output_type": "execute_result"
    }
   ],
   "source": [
    "integers.nbytes\n"
   ]
  },
  {
   "cell_type": "code",
   "execution_count": 10,
   "id": "7a59af2b-4491-4922-bef1-9ef99acaf79f",
   "metadata": {},
   "outputs": [
    {
     "data": {
      "text/plain": [
       "dtype('int8')"
      ]
     },
     "execution_count": 10,
     "metadata": {},
     "output_type": "execute_result"
    }
   ],
   "source": [
    "integers.dtype=np.int8\n",
    "integers.dtype"
   ]
  },
  {
   "cell_type": "markdown",
   "id": "a54064eb-3aad-4756-9987-132e3e8aa018",
   "metadata": {},
   "source": [
    "# MultiDimensional Arrays"
   ]
  },
  {
   "cell_type": "code",
   "execution_count": 11,
   "id": "dc03bfbd-26be-4cee-9b19-c9a23f8fb852",
   "metadata": {},
   "outputs": [
    {
     "data": {
      "text/plain": [
       "1"
      ]
     },
     "execution_count": 11,
     "metadata": {},
     "output_type": "execute_result"
    }
   ],
   "source": [
    "nums=np.array([[1,2,3,4,5],[6,7,8,9,10]])\n",
    "nums[0,0]"
   ]
  },
  {
   "cell_type": "code",
   "execution_count": 12,
   "id": "0d064c02-1bb6-4ac4-9b1c-2783df4fbf69",
   "metadata": {},
   "outputs": [
    {
     "data": {
      "text/plain": [
       "10"
      ]
     },
     "execution_count": 12,
     "metadata": {},
     "output_type": "execute_result"
    }
   ],
   "source": [
    "nums.size"
   ]
  },
  {
   "cell_type": "code",
   "execution_count": 13,
   "id": "76891c35-e669-4025-8630-439f8e7fc0d8",
   "metadata": {},
   "outputs": [
    {
     "data": {
      "text/plain": [
       "2"
      ]
     },
     "execution_count": 13,
     "metadata": {},
     "output_type": "execute_result"
    }
   ],
   "source": [
    "nums.ndim"
   ]
  },
  {
   "cell_type": "code",
   "execution_count": 14,
   "id": "94068064-7dc9-4e04-a208-c396a36b370d",
   "metadata": {},
   "outputs": [
    {
     "data": {
      "text/plain": [
       "(2, 5)"
      ]
     },
     "execution_count": 14,
     "metadata": {},
     "output_type": "execute_result"
    }
   ],
   "source": [
    "nums.shape # Row, Column"
   ]
  },
  {
   "cell_type": "code",
   "execution_count": 15,
   "id": "6a281681-069c-4054-ba5c-8f2458028095",
   "metadata": {},
   "outputs": [
    {
     "name": "stdout",
     "output_type": "stream",
     "text": [
      "[[[1 2 3]\n",
      "  [4 5 6]]\n",
      "\n",
      " [[7 8 9]\n",
      "  [1 2 3]]]\n"
     ]
    }
   ],
   "source": [
    "multi=np.array([[[1,2,3],[4,5,6]],[[7,8,9],[1,2,3]]])\n",
    "print(multi)"
   ]
  },
  {
   "cell_type": "code",
   "execution_count": 16,
   "id": "5138039a-dc9a-40d7-a4c4-907077678ef6",
   "metadata": {},
   "outputs": [
    {
     "data": {
      "text/plain": [
       "(2, 2, 3)"
      ]
     },
     "execution_count": 16,
     "metadata": {},
     "output_type": "execute_result"
    }
   ],
   "source": [
    "multi.shape"
   ]
  },
  {
   "cell_type": "code",
   "execution_count": 17,
   "id": "dbdc7178-892a-44ff-ae01-1edadbbd4c2a",
   "metadata": {},
   "outputs": [
    {
     "data": {
      "text/plain": [
       "3"
      ]
     },
     "execution_count": 17,
     "metadata": {},
     "output_type": "execute_result"
    }
   ],
   "source": [
    "multi[0,0,2] # INdexing in tensor first is for slecting which array then row then column"
   ]
  },
  {
   "cell_type": "markdown",
   "id": "6589e7a6-80a3-4813-90d9-ffa04cad0767",
   "metadata": {},
   "source": [
    "# Creating arrays from Lists and other Python structures"
   ]
  },
  {
   "cell_type": "code",
   "execution_count": 18,
   "id": "6bfd0e2d-19c7-42aa-9176-38d674a3ad80",
   "metadata": {},
   "outputs": [],
   "source": [
    "first_list=[1,2,3,4,5,6,7,8,9]"
   ]
  },
  {
   "cell_type": "code",
   "execution_count": 19,
   "id": "1165e8fe-5573-45c0-a7be-d3bbc01700a1",
   "metadata": {},
   "outputs": [],
   "source": [
    "first_array =np.array(first_list)"
   ]
  },
  {
   "cell_type": "code",
   "execution_count": 20,
   "id": "92b314a4-1144-4b78-a17e-573c32e9a51b",
   "metadata": {},
   "outputs": [
    {
     "data": {
      "text/plain": [
       "array([1, 2, 3, 4, 5, 6, 7, 8, 9])"
      ]
     },
     "execution_count": 20,
     "metadata": {},
     "output_type": "execute_result"
    }
   ],
   "source": [
    "first_array\n"
   ]
  },
  {
   "cell_type": "code",
   "execution_count": 21,
   "id": "b708a345-b5c6-41e5-887d-15ebfcf57823",
   "metadata": {},
   "outputs": [],
   "source": [
    "second_list=[1,2.3,5.6,8,9]"
   ]
  },
  {
   "cell_type": "code",
   "execution_count": 22,
   "id": "9ed0d6c6-0fa7-4bcf-8f19-dffd42bf7dee",
   "metadata": {},
   "outputs": [],
   "source": [
    "sec_array=np.array(second_list)"
   ]
  },
  {
   "cell_type": "code",
   "execution_count": 23,
   "id": "5004ee49-dd60-4e42-9679-11234ba1d473",
   "metadata": {},
   "outputs": [
    {
     "data": {
      "text/plain": [
       "array([1. , 2.3, 5.6, 8. , 9. ])"
      ]
     },
     "execution_count": 23,
     "metadata": {},
     "output_type": "execute_result"
    }
   ],
   "source": [
    "sec_array"
   ]
  },
  {
   "cell_type": "code",
   "execution_count": 24,
   "id": "c8ca7c1f-6d00-4376-b39a-27fca4c4c188",
   "metadata": {},
   "outputs": [
    {
     "data": {
      "text/plain": [
       "dtype('float64')"
      ]
     },
     "execution_count": 24,
     "metadata": {},
     "output_type": "execute_result"
    }
   ],
   "source": [
    "sec_array.dtype\n"
   ]
  },
  {
   "cell_type": "code",
   "execution_count": 25,
   "id": "0cd92d8f-1634-403c-b083-b99065a82cc4",
   "metadata": {},
   "outputs": [],
   "source": [
    "third_list=[\"Hello\",1,2,3]"
   ]
  },
  {
   "cell_type": "code",
   "execution_count": 26,
   "id": "ee40837c-d273-4b09-914c-b69e3052ccdb",
   "metadata": {},
   "outputs": [],
   "source": [
    "third_array=np.array(third_list)"
   ]
  },
  {
   "cell_type": "code",
   "execution_count": 27,
   "id": "74f21ffb-9c6b-4287-ae70-e1cedcf1e1fa",
   "metadata": {},
   "outputs": [
    {
     "data": {
      "text/plain": [
       "array(['Hello', '1', '2', '3'], dtype='<U11')"
      ]
     },
     "execution_count": 27,
     "metadata": {},
     "output_type": "execute_result"
    }
   ],
   "source": [
    "third_array"
   ]
  },
  {
   "cell_type": "code",
   "execution_count": null,
   "id": "eb459223-6286-446b-826a-da29617f0f34",
   "metadata": {},
   "outputs": [],
   "source": []
  },
  {
   "cell_type": "code",
   "execution_count": null,
   "id": "3a26fdda-96b2-4fae-bd27-a5b89f5a027f",
   "metadata": {},
   "outputs": [],
   "source": []
  },
  {
   "cell_type": "code",
   "execution_count": 28,
   "id": "7b3043bf-c48a-4397-a46e-dbac7c5f795e",
   "metadata": {},
   "outputs": [],
   "source": [
    "first_tuple=(1,2,3)"
   ]
  },
  {
   "cell_type": "code",
   "execution_count": 29,
   "id": "ea8c2c4d-7276-4f83-8d1a-d6307035775f",
   "metadata": {},
   "outputs": [],
   "source": [
    "arr=np.array(first_tuple)"
   ]
  },
  {
   "cell_type": "code",
   "execution_count": 30,
   "id": "9b915ac0-f3cf-4b5b-9b3c-5b99d841f2cc",
   "metadata": {},
   "outputs": [
    {
     "data": {
      "text/plain": [
       "dtype('int32')"
      ]
     },
     "execution_count": 30,
     "metadata": {},
     "output_type": "execute_result"
    }
   ],
   "source": [
    "arr.dtype\n"
   ]
  },
  {
   "cell_type": "markdown",
   "id": "7c014720-bec5-4814-9c5c-ba10c56cbbc5",
   "metadata": {},
   "source": [
    "# Intrinsic NumPy Array Creation"
   ]
  },
  {
   "cell_type": "code",
   "execution_count": 31,
   "id": "b25c8a86-057c-45d8-8bf7-681b19dc2d10",
   "metadata": {},
   "outputs": [],
   "source": [
    "#numpy.arrange"
   ]
  },
  {
   "cell_type": "code",
   "execution_count": 32,
   "id": "717bda24-7cf8-4baa-8a59-07dd2addec25",
   "metadata": {},
   "outputs": [],
   "source": [
    "# numpy.arrange([start,] stop, [step,] dtype=None,*,like=None) # SYntax "
   ]
  },
  {
   "cell_type": "code",
   "execution_count": 33,
   "id": "dcdb3826-3915-4fd8-a41f-f2046009036a",
   "metadata": {},
   "outputs": [],
   "source": [
    "intarr=np.arange(10)"
   ]
  },
  {
   "cell_type": "code",
   "execution_count": 34,
   "id": "ce2bae92-0b69-415e-b377-06d12a0591f2",
   "metadata": {},
   "outputs": [
    {
     "data": {
      "text/plain": [
       "array([0, 1, 2, 3, 4, 5, 6, 7, 8, 9])"
      ]
     },
     "execution_count": 34,
     "metadata": {},
     "output_type": "execute_result"
    }
   ],
   "source": [
    "intarr\n"
   ]
  },
  {
   "cell_type": "code",
   "execution_count": 35,
   "id": "96e184a3-3c06-4c0b-b3f5-639208fc0384",
   "metadata": {},
   "outputs": [],
   "source": [
    "intarr_1=np.arange(1,10)"
   ]
  },
  {
   "cell_type": "code",
   "execution_count": 36,
   "id": "e94da110-2346-4c55-a653-b3e3ece274fa",
   "metadata": {},
   "outputs": [
    {
     "data": {
      "text/plain": [
       "array([1, 2, 3, 4, 5, 6, 7, 8, 9])"
      ]
     },
     "execution_count": 36,
     "metadata": {},
     "output_type": "execute_result"
    }
   ],
   "source": [
    "intarr_1 # Till last element -1 "
   ]
  },
  {
   "cell_type": "code",
   "execution_count": 37,
   "id": "66c8d80a-b235-4798-9cce-ac2fa0b0b668",
   "metadata": {},
   "outputs": [],
   "source": [
    "intarr_2=np.arange(1,10,0.5)"
   ]
  },
  {
   "cell_type": "code",
   "execution_count": 38,
   "id": "15dc728e-eba8-4fe2-9f01-014552bb77b8",
   "metadata": {},
   "outputs": [
    {
     "data": {
      "text/plain": [
       "array([1. , 1.5, 2. , 2.5, 3. , 3.5, 4. , 4.5, 5. , 5.5, 6. , 6.5, 7. ,\n",
       "       7.5, 8. , 8.5, 9. , 9.5])"
      ]
     },
     "execution_count": 38,
     "metadata": {},
     "output_type": "execute_result"
    }
   ],
   "source": [
    "intarr_2"
   ]
  },
  {
   "cell_type": "code",
   "execution_count": 39,
   "id": "334e65f9-3a5d-4f21-b932-eb7b8fc58b39",
   "metadata": {},
   "outputs": [],
   "source": [
    "# numpy.linspace for float"
   ]
  },
  {
   "cell_type": "code",
   "execution_count": 40,
   "id": "71c2196f-61b8-4cd8-bf52-e9a3ba347d12",
   "metadata": {},
   "outputs": [],
   "source": [
    "first_float=np.linspace(10,20,)"
   ]
  },
  {
   "cell_type": "code",
   "execution_count": 41,
   "id": "b69d9637-901a-4ff6-9204-cd31d95da0ab",
   "metadata": {},
   "outputs": [
    {
     "data": {
      "text/plain": [
       "array([10.        , 10.20408163, 10.40816327, 10.6122449 , 10.81632653,\n",
       "       11.02040816, 11.2244898 , 11.42857143, 11.63265306, 11.83673469,\n",
       "       12.04081633, 12.24489796, 12.44897959, 12.65306122, 12.85714286,\n",
       "       13.06122449, 13.26530612, 13.46938776, 13.67346939, 13.87755102,\n",
       "       14.08163265, 14.28571429, 14.48979592, 14.69387755, 14.89795918,\n",
       "       15.10204082, 15.30612245, 15.51020408, 15.71428571, 15.91836735,\n",
       "       16.12244898, 16.32653061, 16.53061224, 16.73469388, 16.93877551,\n",
       "       17.14285714, 17.34693878, 17.55102041, 17.75510204, 17.95918367,\n",
       "       18.16326531, 18.36734694, 18.57142857, 18.7755102 , 18.97959184,\n",
       "       19.18367347, 19.3877551 , 19.59183673, 19.79591837, 20.        ])"
      ]
     },
     "execution_count": 41,
     "metadata": {},
     "output_type": "execute_result"
    }
   ],
   "source": [
    "first_float"
   ]
  },
  {
   "cell_type": "code",
   "execution_count": 42,
   "id": "d1b4e6bf-6f40-4f6a-b7de-ae77729b5c30",
   "metadata": {},
   "outputs": [],
   "source": [
    "# Third argument in linspace is the number odf elem,ents you eant in the range"
   ]
  },
  {
   "cell_type": "code",
   "execution_count": 43,
   "id": "0d7cc34e-c826-405c-94e6-6d357dc26f34",
   "metadata": {},
   "outputs": [],
   "source": [
    "sec_flo=np.linspace(1,10,5)"
   ]
  },
  {
   "cell_type": "code",
   "execution_count": 44,
   "id": "66a3f287-68f6-489a-b08b-0ae4854ad120",
   "metadata": {},
   "outputs": [
    {
     "data": {
      "text/plain": [
       "array([ 1.  ,  3.25,  5.5 ,  7.75, 10.  ])"
      ]
     },
     "execution_count": 44,
     "metadata": {},
     "output_type": "execute_result"
    }
   ],
   "source": [
    "sec_flo"
   ]
  },
  {
   "cell_type": "code",
   "execution_count": 45,
   "id": "b000b94e-48a9-469f-aa10-ff89449ec71b",
   "metadata": {},
   "outputs": [],
   "source": [
    "# np.random.rand"
   ]
  },
  {
   "cell_type": "code",
   "execution_count": 46,
   "id": "206e37d4-3f84-4c74-b341-1b243811cc98",
   "metadata": {},
   "outputs": [],
   "source": [
    "fiurst_ran=np.random.rand(10)"
   ]
  },
  {
   "cell_type": "code",
   "execution_count": 47,
   "id": "30d7292b-9ed0-41fd-97ab-317d14e990b8",
   "metadata": {},
   "outputs": [
    {
     "data": {
      "text/plain": [
       "array([0.47140848, 0.43427976, 0.03101476, 0.82809686, 0.23371495,\n",
       "       0.02268512, 0.49793838, 0.42773065, 0.80440925, 0.13439739])"
      ]
     },
     "execution_count": 47,
     "metadata": {},
     "output_type": "execute_result"
    }
   ],
   "source": [
    "fiurst_ran\n"
   ]
  },
  {
   "cell_type": "code",
   "execution_count": 48,
   "id": "b6be643f-e152-4057-b8b9-7869d2260ea2",
   "metadata": {},
   "outputs": [],
   "source": [
    "# numpy.random.randint"
   ]
  },
  {
   "cell_type": "code",
   "execution_count": 49,
   "id": "225ad7fc-ef23-4337-a238-161217e054d3",
   "metadata": {},
   "outputs": [
    {
     "data": {
      "text/plain": [
       "array([10, 86, 54, 70, 30, 65, 91, 51, 13, 69, 65, 43,  3, 93, 32, 22, 94,\n",
       "       13, 84, 62])"
      ]
     },
     "execution_count": 49,
     "metadata": {},
     "output_type": "execute_result"
    }
   ],
   "source": [
    "third_arr=np.random.randint(0,100,20)\n",
    "third_arr"
   ]
  },
  {
   "cell_type": "markdown",
   "id": "d2cf3123-a286-4674-905b-427eae576ba5",
   "metadata": {},
   "source": [
    "# Creating arrays filled with constant Values"
   ]
  },
  {
   "cell_type": "code",
   "execution_count": 50,
   "id": "84d8480c-e5e8-481f-97cf-3413c78f68a7",
   "metadata": {},
   "outputs": [],
   "source": [
    "# np.zeros()"
   ]
  },
  {
   "cell_type": "code",
   "execution_count": 51,
   "id": "7476e537-78ff-48ee-becc-c0fe6858d5b9",
   "metadata": {},
   "outputs": [
    {
     "data": {
      "text/plain": [
       "array([0., 0., 0., 0., 0.])"
      ]
     },
     "execution_count": 51,
     "metadata": {},
     "output_type": "execute_result"
    }
   ],
   "source": [
    "\n",
    "\n",
    "first_z=np.zeros(5)\n",
    "first_z"
   ]
  },
  {
   "cell_type": "code",
   "execution_count": 52,
   "id": "75a3f493-0435-4ffc-a984-58a0f2ffda2f",
   "metadata": {},
   "outputs": [
    {
     "data": {
      "text/plain": [
       "array([[0., 0., 0., 0., 0.],\n",
       "       [0., 0., 0., 0., 0.],\n",
       "       [0., 0., 0., 0., 0.],\n",
       "       [0., 0., 0., 0., 0.]])"
      ]
     },
     "execution_count": 52,
     "metadata": {},
     "output_type": "execute_result"
    }
   ],
   "source": [
    "sec_z=np.zeros((4,5))\n",
    "sec_z"
   ]
  },
  {
   "cell_type": "code",
   "execution_count": 53,
   "id": "60be5e34-3164-45cb-9d36-a0414d5241bd",
   "metadata": {},
   "outputs": [],
   "source": [
    "#np.ones()"
   ]
  },
  {
   "cell_type": "code",
   "execution_count": 54,
   "id": "4627e669-255e-4cb7-866d-64d888ad3fe1",
   "metadata": {},
   "outputs": [
    {
     "data": {
      "text/plain": [
       "array([1., 1., 1.])"
      ]
     },
     "execution_count": 54,
     "metadata": {},
     "output_type": "execute_result"
    }
   ],
   "source": [
    "first_one=np.ones(3)\n",
    "first_one"
   ]
  },
  {
   "cell_type": "code",
   "execution_count": 55,
   "id": "c6ae87e0-5dfa-4205-ba2e-8d85145b2a15",
   "metadata": {},
   "outputs": [
    {
     "data": {
      "text/plain": [
       "array([[1., 1., 1., 1.],\n",
       "       [1., 1., 1., 1.],\n",
       "       [1., 1., 1., 1.]])"
      ]
     },
     "execution_count": 55,
     "metadata": {},
     "output_type": "execute_result"
    }
   ],
   "source": [
    "sec_one=np.ones((3,4))\n",
    "sec_one"
   ]
  },
  {
   "cell_type": "code",
   "execution_count": 56,
   "id": "3e9afcf4-a842-4857-a643-f8c30c6943dd",
   "metadata": {},
   "outputs": [],
   "source": [
    "#fill \n",
    "#only one dimensional arrays\n",
    "# first create empty array then fill with similar values"
   ]
  },
  {
   "cell_type": "code",
   "execution_count": 57,
   "id": "c2d4f3e9-517e-483d-b2ae-9fd7abaae359",
   "metadata": {},
   "outputs": [],
   "source": [
    "#np.empty"
   ]
  },
  {
   "cell_type": "code",
   "execution_count": 58,
   "id": "e876d2f9-13a5-47d1-80c3-28b8e94c8ed7",
   "metadata": {},
   "outputs": [
    {
     "data": {
      "text/plain": [
       "array([12, 12, 12, 12, 12, 12, 12, 12, 12, 12])"
      ]
     },
     "execution_count": 58,
     "metadata": {},
     "output_type": "execute_result"
    }
   ],
   "source": [
    "first_fill= np.empty(10,dtype=int)\n",
    "first_fill.fill(12)\n",
    "first_fill"
   ]
  },
  {
   "cell_type": "code",
   "execution_count": 59,
   "id": "8f77117c-f744-40f4-b4ea-c4bb63bb0b86",
   "metadata": {},
   "outputs": [],
   "source": [
    "#full\n",
    "# 1 or 2 dimensional arrays\n",
    "#np.full((dimension),constant)"
   ]
  },
  {
   "cell_type": "code",
   "execution_count": 60,
   "id": "ed98dc5a-6e2c-454e-ac49-397e043df449",
   "metadata": {},
   "outputs": [
    {
     "data": {
      "text/plain": [
       "array([10, 10, 10, 10, 10])"
      ]
     },
     "execution_count": 60,
     "metadata": {},
     "output_type": "execute_result"
    }
   ],
   "source": [
    "first_full=np.full(5,10)\n",
    "first_full"
   ]
  },
  {
   "cell_type": "code",
   "execution_count": 61,
   "id": "0c7ce4ec-524d-4a4c-99c7-cce13d1435e2",
   "metadata": {},
   "outputs": [
    {
     "data": {
      "text/plain": [
       "array([[4, 4, 4],\n",
       "       [4, 4, 4],\n",
       "       [4, 4, 4]])"
      ]
     },
     "execution_count": 61,
     "metadata": {},
     "output_type": "execute_result"
    }
   ],
   "source": [
    "sec_full=np.full((3,3),4)\n",
    "sec_full"
   ]
  },
  {
   "cell_type": "markdown",
   "id": "976d1612-ed51-4d2c-a383-28c50d787ff1",
   "metadata": {},
   "source": [
    "# Finding shape and size"
   ]
  },
  {
   "cell_type": "code",
   "execution_count": 62,
   "id": "38092c6a-13ff-411c-a4ce-5a1a496539d9",
   "metadata": {},
   "outputs": [],
   "source": [
    "#dtype\n",
    "#shape give dimensions\n",
    "#ndim gives one,two three kind of dimension (like array is 3 dimensional)\n",
    "# size gives number of elements"
   ]
  },
  {
   "cell_type": "code",
   "execution_count": 63,
   "id": "c99fa39c-7e59-4096-9281-8f277c71dd5d",
   "metadata": {},
   "outputs": [
    {
     "data": {
      "text/plain": [
       "array([ 0,  1,  2,  3,  4,  5,  6,  7,  8,  9, 10, 11, 12, 13, 14, 15, 16,\n",
       "       17, 18, 19])"
      ]
     },
     "execution_count": 63,
     "metadata": {},
     "output_type": "execute_result"
    }
   ],
   "source": [
    "first_arr=np.arange(20)\n",
    "first_arr"
   ]
  },
  {
   "cell_type": "code",
   "execution_count": 64,
   "id": "b8e4b1c0-90c6-4651-be55-0b2e1d99a431",
   "metadata": {},
   "outputs": [
    {
     "data": {
      "text/plain": [
       "array([[ 1.,  2.],\n",
       "       [ 2.,  4.],\n",
       "       [ 3.,  6.],\n",
       "       [ 4.,  8.],\n",
       "       [ 5., 10.],\n",
       "       [ 6., 12.],\n",
       "       [ 7., 14.],\n",
       "       [ 8., 16.],\n",
       "       [ 9., 18.],\n",
       "       [10., 20.]])"
      ]
     },
     "execution_count": 64,
     "metadata": {},
     "output_type": "execute_result"
    }
   ],
   "source": [
    "sec_arr=np.linspace((1,2),(10,20),10)\n",
    "sec_arr"
   ]
  },
  {
   "cell_type": "code",
   "execution_count": 65,
   "id": "61c445db-c01f-444a-a8ad-8328760825e3",
   "metadata": {},
   "outputs": [
    {
     "data": {
      "text/plain": [
       "array([[[10, 10],\n",
       "        [10, 10]],\n",
       "\n",
       "       [[10, 10],\n",
       "        [10, 10]]])"
      ]
     },
     "execution_count": 65,
     "metadata": {},
     "output_type": "execute_result"
    }
   ],
   "source": [
    "third_arr=np.full((2,2,2),10)\n",
    "third_arr"
   ]
  },
  {
   "cell_type": "code",
   "execution_count": 66,
   "id": "491a4638-b57d-4950-9817-abf385c38cae",
   "metadata": {},
   "outputs": [
    {
     "data": {
      "text/plain": [
       "(2, 2, 2)"
      ]
     },
     "execution_count": 66,
     "metadata": {},
     "output_type": "execute_result"
    }
   ],
   "source": [
    "np.shape(third_arr) # or third_arr.shape"
   ]
  },
  {
   "cell_type": "code",
   "execution_count": 67,
   "id": "bf49a819-ca82-4ad6-aa72-19acfbca47a8",
   "metadata": {},
   "outputs": [
    {
     "data": {
      "text/plain": [
       "(20,)"
      ]
     },
     "execution_count": 67,
     "metadata": {},
     "output_type": "execute_result"
    }
   ],
   "source": [
    "np.shape(first_arr)\n"
   ]
  },
  {
   "cell_type": "code",
   "execution_count": 68,
   "id": "7a77e9c4-b7e0-4d0a-aa38-706f3effc388",
   "metadata": {},
   "outputs": [
    {
     "data": {
      "text/plain": [
       "20"
      ]
     },
     "execution_count": 68,
     "metadata": {},
     "output_type": "execute_result"
    }
   ],
   "source": [
    "sec_arr.size"
   ]
  },
  {
   "cell_type": "code",
   "execution_count": 69,
   "id": "69e9144c-5784-40c9-a6d6-93f39b53dc08",
   "metadata": {},
   "outputs": [
    {
     "name": "stdout",
     "output_type": "stream",
     "text": [
      "[2 2 3 4 5]\n"
     ]
    }
   ],
   "source": [
    "arr=np.array([1,2,3,4,5])\n",
    "arr[0]=2.5\n",
    "print(arr)"
   ]
  },
  {
   "cell_type": "code",
   "execution_count": 70,
   "id": "2b9fc60d-37b4-4a3f-a286-6d11b1e41781",
   "metadata": {},
   "outputs": [
    {
     "name": "stdout",
     "output_type": "stream",
     "text": [
      "[]\n"
     ]
    }
   ],
   "source": [
    "arre=np.random.rand(0,4,3)\n",
    "print(arre)"
   ]
  },
  {
   "cell_type": "code",
   "execution_count": 71,
   "id": "9cce72ae-d36f-4b9b-9b03-f45352396fd6",
   "metadata": {},
   "outputs": [
    {
     "data": {
      "text/plain": [
       "array(['Wa', '24', 'CA'], dtype='<U11')"
      ]
     },
     "execution_count": 71,
     "metadata": {},
     "output_type": "execute_result"
    }
   ],
   "source": [
    "array1=['Wa',24,'CA']\n",
    "array2=np.array(array1)\n",
    "array2"
   ]
  },
  {
   "cell_type": "code",
   "execution_count": 72,
   "id": "2b8d2114-6a84-4364-8873-1f6282890e4f",
   "metadata": {},
   "outputs": [],
   "source": [
    "from numpy import shape"
   ]
  },
  {
   "cell_type": "markdown",
   "id": "6e41b20f-475e-4a38-a752-efb89132eb4f",
   "metadata": {},
   "source": [
    "# Adding,removing and sorting elements"
   ]
  },
  {
   "cell_type": "code",
   "execution_count": 73,
   "id": "b79c8a88-4c15-4d96-b155-89ca9ade4701",
   "metadata": {},
   "outputs": [],
   "source": [
    "#insert at desired index\n",
    "#append at last element"
   ]
  },
  {
   "cell_type": "code",
   "execution_count": 74,
   "id": "a00eff81-281c-46db-8799-8705a4493f34",
   "metadata": {},
   "outputs": [
    {
     "data": {
      "text/plain": [
       "array([1, 2, 3, 4, 4])"
      ]
     },
     "execution_count": 74,
     "metadata": {},
     "output_type": "execute_result"
    }
   ],
   "source": [
    "first_arr=np.array([1,2,3,4])\n",
    "new_arr=np.insert(first_arr,3,4)\n",
    "new_arr"
   ]
  },
  {
   "cell_type": "code",
   "execution_count": 75,
   "id": "f4709740-542a-492d-b310-5c756a72e53b",
   "metadata": {},
   "outputs": [
    {
     "data": {
      "text/plain": [
       "array([1, 2, 3, 4, 3])"
      ]
     },
     "execution_count": 75,
     "metadata": {},
     "output_type": "execute_result"
    }
   ],
   "source": [
    "new2_arr=np.append(first_arr,3)\n",
    "new2_arr"
   ]
  },
  {
   "cell_type": "code",
   "execution_count": 76,
   "id": "77f2be4d-a790-4632-a070-67190bc376e1",
   "metadata": {},
   "outputs": [],
   "source": [
    "#Deleting element from array"
   ]
  },
  {
   "cell_type": "code",
   "execution_count": 77,
   "id": "683862c8-5bf4-476e-ac80-2e20410790b7",
   "metadata": {},
   "outputs": [
    {
     "data": {
      "text/plain": [
       "array([1, 2, 3, 4])"
      ]
     },
     "execution_count": 77,
     "metadata": {},
     "output_type": "execute_result"
    }
   ],
   "source": [
    "new3_arr=np.delete(new_arr,4)\n",
    "new3_arr"
   ]
  },
  {
   "cell_type": "code",
   "execution_count": 78,
   "id": "dba25682-f32e-4994-bc95-1dc344767d28",
   "metadata": {},
   "outputs": [],
   "source": [
    "#sorting"
   ]
  },
  {
   "cell_type": "code",
   "execution_count": 79,
   "id": "5d98732f-9a05-46c3-9ade-d55a18520ac5",
   "metadata": {},
   "outputs": [
    {
     "name": "stdout",
     "output_type": "stream",
     "text": [
      "[0.03004974 0.16555203 0.24340036 0.27137453 0.35480427 0.3851938\n",
      " 0.48974163 0.55434854 0.59416878 0.85850601]\n"
     ]
    }
   ],
   "source": [
    "print(np.sort(np.random.rand(10)))"
   ]
  },
  {
   "cell_type": "code",
   "execution_count": 80,
   "id": "62cce28f-1ff9-4f54-b8fc-3e78c6d0cc62",
   "metadata": {},
   "outputs": [
    {
     "data": {
      "text/plain": [
       "array([0.08482641, 0.52435573, 0.17558219, 0.56915675, 0.14537456,\n",
       "       0.79271805, 0.21368793, 0.57921846, 0.84779219, 0.03757622])"
      ]
     },
     "execution_count": 80,
     "metadata": {},
     "output_type": "execute_result"
    }
   ],
   "source": [
    "np.random.rand(10)"
   ]
  },
  {
   "cell_type": "code",
   "execution_count": 81,
   "id": "270c056a-05db-4e4c-9819-50a570e5717e",
   "metadata": {},
   "outputs": [
    {
     "name": "stdout",
     "output_type": "stream",
     "text": [
      "[0.97889138 0.92298492 0.9100489  0.83403263 0.70192081 0.54780435\n",
      " 0.38491155 0.31574709 0.20943876 0.0409163 ]\n"
     ]
    }
   ],
   "source": [
    "print(np.flip((np.sort(np.random.rand(10),))))"
   ]
  },
  {
   "cell_type": "code",
   "execution_count": 82,
   "id": "cbc632b4-4261-4477-9755-b5c026cfcdbe",
   "metadata": {},
   "outputs": [],
   "source": [
    "#np.flip() negataion of order\n"
   ]
  },
  {
   "cell_type": "markdown",
   "id": "48a1055b-5679-49a8-b6a9-5f566efe7793",
   "metadata": {},
   "source": [
    "# Copies and Views"
   ]
  },
  {
   "cell_type": "code",
   "execution_count": 83,
   "id": "6fa47282-ada7-4afd-a50f-4e70c86a72a8",
   "metadata": {},
   "outputs": [],
   "source": [
    "# Any change made in original array will not be  be reflected in copied array\n",
    "# But the new is assigned from old one then changes will effect both equally"
   ]
  },
  {
   "cell_type": "code",
   "execution_count": 84,
   "id": "84b27a63-d60f-4d85-a988-84cde188f46d",
   "metadata": {},
   "outputs": [],
   "source": [
    "#.copy()"
   ]
  },
  {
   "cell_type": "code",
   "execution_count": 85,
   "id": "9cb112d2-8816-4879-876e-c9bb9f824261",
   "metadata": {},
   "outputs": [
    {
     "data": {
      "text/plain": [
       "array([1, 2, 3, 4, 4])"
      ]
     },
     "execution_count": 85,
     "metadata": {},
     "output_type": "execute_result"
    }
   ],
   "source": [
    "zz_arr=new_arr.copy()\n",
    "zz_arr"
   ]
  },
  {
   "cell_type": "code",
   "execution_count": 86,
   "id": "85f6ba20-9841-4869-987c-05a9a107c9d6",
   "metadata": {},
   "outputs": [
    {
     "data": {
      "text/plain": [
       "array([ True,  True,  True,  True,  True])"
      ]
     },
     "execution_count": 86,
     "metadata": {},
     "output_type": "execute_result"
    }
   ],
   "source": [
    "zz_arr == new_arr"
   ]
  },
  {
   "cell_type": "code",
   "execution_count": 87,
   "id": "df9eb1f0-6d63-4ee6-b537-55db992c1794",
   "metadata": {},
   "outputs": [],
   "source": [
    "#view()\n",
    "# Works both ways changes made in any one will be reflected on both"
   ]
  },
  {
   "cell_type": "code",
   "execution_count": 88,
   "id": "a2247df5-47d9-4fe5-85c2-f43a4fb6dd67",
   "metadata": {},
   "outputs": [
    {
     "data": {
      "text/plain": [
       "array([1, 2, 3, 4, 4])"
      ]
     },
     "execution_count": 88,
     "metadata": {},
     "output_type": "execute_result"
    }
   ],
   "source": [
    "z_arr=new_arr.view()\n",
    "z_arr"
   ]
  },
  {
   "cell_type": "code",
   "execution_count": 89,
   "id": "1dcf1d6d-ae17-41f8-88a2-ed467c4f9629",
   "metadata": {},
   "outputs": [],
   "source": [
    "z_arr[1]=200"
   ]
  },
  {
   "cell_type": "code",
   "execution_count": 90,
   "id": "d188d14a-e25a-4cbb-9963-4821ac64ebd2",
   "metadata": {},
   "outputs": [
    {
     "name": "stdout",
     "output_type": "stream",
     "text": [
      "[  1 200   3   4   4]\n",
      "[  1 200   3   4   4]\n"
     ]
    }
   ],
   "source": [
    "print(z_arr)\n",
    "print(new_arr)"
   ]
  },
  {
   "cell_type": "markdown",
   "id": "2ea87f65-0abd-4b47-a905-f890eb5dfeee",
   "metadata": {},
   "source": [
    "# Reshaping Arrays"
   ]
  },
  {
   "cell_type": "code",
   "execution_count": 91,
   "id": "c132150c-bade-41ae-a6ce-aef7e41efa71",
   "metadata": {},
   "outputs": [],
   "source": [
    "# Number of elemnts remain same while shape changes"
   ]
  },
  {
   "cell_type": "code",
   "execution_count": 92,
   "id": "da67c472-818c-4a0d-8b3f-501082f62c6d",
   "metadata": {},
   "outputs": [],
   "source": [
    "#np.rehape()"
   ]
  },
  {
   "cell_type": "code",
   "execution_count": 93,
   "id": "63de0219-459c-4461-a857-f3e1990d732a",
   "metadata": {},
   "outputs": [
    {
     "data": {
      "text/plain": [
       "array([ 1,  2,  3,  4,  5,  6,  7,  8,  9, 10, 11, 12])"
      ]
     },
     "execution_count": 93,
     "metadata": {},
     "output_type": "execute_result"
    }
   ],
   "source": [
    "first=np.arange(1,13)\n",
    "first"
   ]
  },
  {
   "cell_type": "code",
   "execution_count": 94,
   "id": "e630a6e5-0db9-4d64-b453-f1d73a36da96",
   "metadata": {},
   "outputs": [
    {
     "data": {
      "text/plain": [
       "array([[ 1,  2,  3],\n",
       "       [ 4,  5,  6],\n",
       "       [ 7,  8,  9],\n",
       "       [10, 11, 12]])"
      ]
     },
     "execution_count": 94,
     "metadata": {},
     "output_type": "execute_result"
    }
   ],
   "source": [
    "sec=np.reshape(first,(4,3))\n",
    "sec"
   ]
  },
  {
   "cell_type": "code",
   "execution_count": 95,
   "id": "eb7e375d-41c7-43c1-9e08-80ae293e9639",
   "metadata": {},
   "outputs": [],
   "source": [
    "# Give new shape input such a way that totaal number of elemnts remain same\n"
   ]
  },
  {
   "cell_type": "code",
   "execution_count": 96,
   "id": "1be869f8-1739-4215-93bf-07206f08c975",
   "metadata": {},
   "outputs": [],
   "source": [
    "# rehaping to 3 dimensional array"
   ]
  },
  {
   "cell_type": "code",
   "execution_count": 97,
   "id": "4d469f3b-9a4c-4bff-9bdc-a5be85005741",
   "metadata": {},
   "outputs": [
    {
     "data": {
      "text/plain": [
       "array([[[ 1,  2],\n",
       "        [ 3,  4]],\n",
       "\n",
       "       [[ 5,  6],\n",
       "        [ 7,  8]],\n",
       "\n",
       "       [[ 9, 10],\n",
       "        [11, 12]]])"
      ]
     },
     "execution_count": 97,
     "metadata": {},
     "output_type": "execute_result"
    }
   ],
   "source": [
    "third=np.reshape(first,(3,2,2))\n",
    "third"
   ]
  },
  {
   "cell_type": "code",
   "execution_count": 98,
   "id": "d3c749c2-c391-4de6-9637-b1f2560086e8",
   "metadata": {},
   "outputs": [
    {
     "data": {
      "text/plain": [
       "array([ 1,  2,  3,  4,  5,  6,  7,  8,  9, 10, 11, 12])"
      ]
     },
     "execution_count": 98,
     "metadata": {},
     "output_type": "execute_result"
    }
   ],
   "source": [
    "four=np.reshape(third,12)\n",
    "four  # This process is known as flattening"
   ]
  },
  {
   "cell_type": "code",
   "execution_count": 99,
   "id": "340e50da-5fa3-4eea-abd9-c0af244e8c9a",
   "metadata": {},
   "outputs": [],
   "source": [
    "# numpy.ndarray.flatten\n",
    "# Return a copy of the array collapsed into one dimension"
   ]
  },
  {
   "cell_type": "code",
   "execution_count": 100,
   "id": "bc643633-1fff-4515-a16e-c3d7df7c1247",
   "metadata": {},
   "outputs": [],
   "source": [
    "# numpy.ravel\n",
    "# Return a contiguous flattened array\n",
    "#memory efficient as it does not create copy \n",
    "# IT creates view"
   ]
  },
  {
   "cell_type": "code",
   "execution_count": 101,
   "id": "16f1f1a8-d70e-4f29-aaa0-ce7229faed54",
   "metadata": {},
   "outputs": [
    {
     "data": {
      "text/plain": [
       "array([ 1,  2,  3,  4,  5,  6,  7,  8,  9, 10, 11, 12])"
      ]
     },
     "execution_count": 101,
     "metadata": {},
     "output_type": "execute_result"
    }
   ],
   "source": [
    "fifth=third.flatten()\n",
    "fifth"
   ]
  },
  {
   "cell_type": "code",
   "execution_count": 102,
   "id": "8ca9efaf-a055-40a4-9cf0-1cf31b503aa3",
   "metadata": {},
   "outputs": [
    {
     "data": {
      "text/plain": [
       "array([ 1,  2,  3,  4,  5,  6,  7,  8,  9, 10, 11, 12])"
      ]
     },
     "execution_count": 102,
     "metadata": {},
     "output_type": "execute_result"
    }
   ],
   "source": [
    "sixth=third.ravel()\n",
    "sixth"
   ]
  },
  {
   "cell_type": "markdown",
   "id": "a92de89c-17f0-4aea-8058-b8d22dff4235",
   "metadata": {},
   "source": [
    "# Indexing and Slicing"
   ]
  },
  {
   "cell_type": "code",
   "execution_count": 103,
   "id": "b9ad9f7b-201b-43a1-9f5e-fef3a80fc851",
   "metadata": {},
   "outputs": [],
   "source": [
    "# array[1:4] element at index one to element at index 3 (last-1) slicing\n"
   ]
  },
  {
   "cell_type": "code",
   "execution_count": 104,
   "id": "8e0cf1a6-d509-4a93-88b2-64cd382d47d0",
   "metadata": {},
   "outputs": [
    {
     "data": {
      "text/plain": [
       "array([[ 0,  1,  2,  3],\n",
       "       [ 4,  5,  6,  7],\n",
       "       [ 8,  9, 10, 11]])"
      ]
     },
     "execution_count": 104,
     "metadata": {},
     "output_type": "execute_result"
    }
   ],
   "source": [
    "ff=np.reshape(np.arange(12),(3,4))\n",
    "ff"
   ]
  },
  {
   "cell_type": "code",
   "execution_count": 105,
   "id": "6f9832c2-ffbe-4110-a8e8-88ffb6386a9e",
   "metadata": {},
   "outputs": [
    {
     "data": {
      "text/plain": [
       "5"
      ]
     },
     "execution_count": 105,
     "metadata": {},
     "output_type": "execute_result"
    }
   ],
   "source": [
    "ff[1,1]"
   ]
  },
  {
   "cell_type": "code",
   "execution_count": 106,
   "id": "af774b08-4637-4b23-aadb-c16c0ae62129",
   "metadata": {},
   "outputs": [
    {
     "data": {
      "text/plain": [
       "array([4, 5, 6, 7])"
      ]
     },
     "execution_count": 106,
     "metadata": {},
     "output_type": "execute_result"
    }
   ],
   "source": [
    "ff[1]"
   ]
  },
  {
   "cell_type": "code",
   "execution_count": 107,
   "id": "29425205-17b5-4225-90cd-700204509db1",
   "metadata": {},
   "outputs": [
    {
     "data": {
      "text/plain": [
       "array([[[ 0,  1],\n",
       "        [ 2,  3]],\n",
       "\n",
       "       [[ 4,  5],\n",
       "        [ 6,  7]],\n",
       "\n",
       "       [[ 8,  9],\n",
       "        [10, 11]]])"
      ]
     },
     "execution_count": 107,
     "metadata": {},
     "output_type": "execute_result"
    }
   ],
   "source": [
    "ff=np.reshape(np.arange(12),(3,2,2))\n",
    "ff"
   ]
  },
  {
   "cell_type": "code",
   "execution_count": 108,
   "id": "d5fee57e-2fb7-498e-9b55-8608bcf0f524",
   "metadata": {},
   "outputs": [
    {
     "data": {
      "text/plain": [
       "8"
      ]
     },
     "execution_count": 108,
     "metadata": {},
     "output_type": "execute_result"
    }
   ],
   "source": [
    "ff[2,0,0]"
   ]
  },
  {
   "cell_type": "code",
   "execution_count": 109,
   "id": "04004aba-cac4-4006-b9b7-f74aa70ee1c8",
   "metadata": {},
   "outputs": [
    {
     "data": {
      "text/plain": [
       "7"
      ]
     },
     "execution_count": 109,
     "metadata": {},
     "output_type": "execute_result"
    }
   ],
   "source": [
    "ff[1,1,1]"
   ]
  },
  {
   "cell_type": "code",
   "execution_count": 110,
   "id": "f6aee079-0724-4bba-a168-4c6b3e94c6b1",
   "metadata": {},
   "outputs": [],
   "source": [
    "#In multi dimensional array while indexing [i,j,k] i refers to array to which we are refering j,k refers to element of that array"
   ]
  },
  {
   "cell_type": "code",
   "execution_count": 111,
   "id": "31d944ee-cc96-46e0-ba5a-9223f590d944",
   "metadata": {},
   "outputs": [],
   "source": [
    "# neagtive indexing\n"
   ]
  },
  {
   "cell_type": "code",
   "execution_count": 112,
   "id": "7f1974a0-0ba5-4443-8fe7-7a772788075d",
   "metadata": {},
   "outputs": [
    {
     "data": {
      "text/plain": [
       "11"
      ]
     },
     "execution_count": 112,
     "metadata": {},
     "output_type": "execute_result"
    }
   ],
   "source": [
    "ff[-1,-1,-1]"
   ]
  },
  {
   "cell_type": "code",
   "execution_count": 113,
   "id": "8ea803e8-1d77-4455-9f7e-bad913981e93",
   "metadata": {},
   "outputs": [],
   "source": [
    "#slicing"
   ]
  },
  {
   "cell_type": "code",
   "execution_count": 114,
   "id": "29ec5d44-9e3e-4a95-a9da-a3d4636c8c9c",
   "metadata": {},
   "outputs": [
    {
     "data": {
      "text/plain": [
       "array([[ 8,  9],\n",
       "       [10, 11]])"
      ]
     },
     "execution_count": 114,
     "metadata": {},
     "output_type": "execute_result"
    }
   ],
   "source": [
    "ff[-1,0:2,0:2]"
   ]
  },
  {
   "cell_type": "code",
   "execution_count": 115,
   "id": "4978c6c3-82d0-4e06-b223-6bff0acbe990",
   "metadata": {},
   "outputs": [
    {
     "data": {
      "text/plain": [
       "array([10, 11, 12])"
      ]
     },
     "execution_count": 115,
     "metadata": {},
     "output_type": "execute_result"
    }
   ],
   "source": [
    "first[-3:] # will give last three elemnts"
   ]
  },
  {
   "cell_type": "code",
   "execution_count": 116,
   "id": "9e77e521-37c3-46dd-830a-10dc417a5da9",
   "metadata": {},
   "outputs": [],
   "source": [
    "# every other element\n",
    "# emit start,stop will enter only step"
   ]
  },
  {
   "cell_type": "code",
   "execution_count": 117,
   "id": "5e6a8603-0e8f-4fee-98f3-a7c7b452e49f",
   "metadata": {},
   "outputs": [
    {
     "data": {
      "text/plain": [
       "array([[[ 0,  1],\n",
       "        [ 2,  3]],\n",
       "\n",
       "       [[ 8,  9],\n",
       "        [10, 11]]])"
      ]
     },
     "execution_count": 117,
     "metadata": {},
     "output_type": "execute_result"
    }
   ],
   "source": [
    "ff[::2]"
   ]
  },
  {
   "cell_type": "code",
   "execution_count": 118,
   "id": "d0cdbbd5-9eb0-42d4-91b8-3a4fb6377385",
   "metadata": {},
   "outputs": [
    {
     "data": {
      "text/plain": [
       "array([ 1,  3,  5,  7,  9, 11])"
      ]
     },
     "execution_count": 118,
     "metadata": {},
     "output_type": "execute_result"
    }
   ],
   "source": [
    "first[::2]"
   ]
  },
  {
   "cell_type": "markdown",
   "id": "c0c0e073-ac11-4a5d-9a51-0650ea8fe127",
   "metadata": {},
   "source": [
    "# Joining and splitting arrays"
   ]
  },
  {
   "cell_type": "code",
   "execution_count": 119,
   "id": "2910500b-ba0b-4b84-b566-9a1ae02da0c4",
   "metadata": {},
   "outputs": [
    {
     "data": {
      "text/plain": [
       "'\\nconcatenate\\nstack\\nhstack\\nvstack\\n'"
      ]
     },
     "execution_count": 119,
     "metadata": {},
     "output_type": "execute_result"
    }
   ],
   "source": [
    "#Functions for joining\n",
    "\"\"\"\n",
    "concatenate\n",
    "stack\n",
    "hstack\n",
    "vstack\n",
    "\"\"\""
   ]
  },
  {
   "cell_type": "code",
   "execution_count": 120,
   "id": "8ae992b6-e2ba-4a89-8183-63ba83b6aaeb",
   "metadata": {},
   "outputs": [],
   "source": [
    "# consider dimensional requirement for joining"
   ]
  },
  {
   "cell_type": "code",
   "execution_count": 121,
   "id": "143b8447-3775-41ca-a89a-c2fb82fa2488",
   "metadata": {},
   "outputs": [],
   "source": [
    "# ALso how we decide it will be joined row wise or column wise\n",
    "# For row wise joining number of rows must be equal silmilarly for cloumn wise joining\n",
    "# column wise joining will be downside and row wise joining will be right side"
   ]
  },
  {
   "cell_type": "code",
   "execution_count": 122,
   "id": "96b189c4-db0f-4818-b8a4-06517290d0c9",
   "metadata": {},
   "outputs": [
    {
     "name": "stdout",
     "output_type": "stream",
     "text": [
      "[ 1  2  3  4  5  6  7  8  9 10]\n",
      "[11 12 13 14 15 16 17 18 19 20]\n"
     ]
    }
   ],
   "source": [
    "first_a=np.arange(1,11)\n",
    "sec_ar=np.arange(11,21)\n",
    "print(first_a)\n",
    "print(sec_ar)"
   ]
  },
  {
   "cell_type": "code",
   "execution_count": 123,
   "id": "d01b7e19-7e8b-4762-8a52-bc9ccbe6781f",
   "metadata": {},
   "outputs": [
    {
     "name": "stdout",
     "output_type": "stream",
     "text": [
      "[ 1  2  3  4  5  6  7  8  9 10 11 12 13 14 15 16 17 18 19 20]\n"
     ]
    }
   ],
   "source": [
    "third_ar=np.concatenate((first_a,sec_ar))\n",
    "print(third_ar)"
   ]
  },
  {
   "cell_type": "code",
   "execution_count": 124,
   "id": "1ed9e2a3-7d84-4514-9736-f155c7484f3b",
   "metadata": {},
   "outputs": [
    {
     "data": {
      "text/plain": [
       "array([[ 1,  2,  3,  7,  8,  0],\n",
       "       [ 4,  5,  6, 10, 11, 12]])"
      ]
     },
     "execution_count": 124,
     "metadata": {},
     "output_type": "execute_result"
    }
   ],
   "source": [
    "third_2r=np.array([[1,2,3],[4,5,6]])\n",
    "third_3r=np.array([[7,8,0],[10,11,12]])\n",
    "fou_ar=np.concatenate((third_2r,third_3r),axis=1)\n",
    "fou_ar"
   ]
  },
  {
   "cell_type": "code",
   "execution_count": 125,
   "id": "a1b1821f-48bc-42ed-ae0e-afff83a5ba31",
   "metadata": {},
   "outputs": [],
   "source": [
    "# stack is done along new axis\n"
   ]
  },
  {
   "cell_type": "code",
   "execution_count": 126,
   "id": "c1584f04-d93a-49d7-9986-3eac89108b93",
   "metadata": {},
   "outputs": [
    {
     "data": {
      "text/plain": [
       "array([[ 1,  2,  3,  4,  5,  6,  7,  8,  9, 10],\n",
       "       [11, 12, 13, 14, 15, 16, 17, 18, 19, 20]])"
      ]
     },
     "execution_count": 126,
     "metadata": {},
     "output_type": "execute_result"
    }
   ],
   "source": [
    "st_arr=np.stack((first_a,sec_ar))\n",
    "st_arr"
   ]
  },
  {
   "cell_type": "code",
   "execution_count": 127,
   "id": "97c32b3f-345c-431e-897d-82b114b7ba70",
   "metadata": {},
   "outputs": [],
   "source": [
    "# horizontal stacking hstack\n",
    "# vertical stacking v stack"
   ]
  },
  {
   "cell_type": "code",
   "execution_count": 128,
   "id": "3947c687-132d-42ed-82f5-c995258d2228",
   "metadata": {},
   "outputs": [
    {
     "data": {
      "text/plain": [
       "array([ 1,  2,  3,  4, 11, 12, 13, 14, 15, 16, 17, 18, 19, 20])"
      ]
     },
     "execution_count": 128,
     "metadata": {},
     "output_type": "execute_result"
    }
   ],
   "source": [
    "hst_arr=np.hstack((first_arr,sec_ar))\n",
    "hst_arr"
   ]
  },
  {
   "cell_type": "code",
   "execution_count": 129,
   "id": "afd162df-e43d-4179-9937-73a492c1ed94",
   "metadata": {},
   "outputs": [
    {
     "data": {
      "text/plain": [
       "array([[ 1,  2,  3,  4,  5,  6,  7,  8,  9, 10],\n",
       "       [11, 12, 13, 14, 15, 16, 17, 18, 19, 20]])"
      ]
     },
     "execution_count": 129,
     "metadata": {},
     "output_type": "execute_result"
    }
   ],
   "source": [
    "vst_arr=np.vstack((first_a,sec_ar))\n",
    "vst_arr"
   ]
  },
  {
   "cell_type": "code",
   "execution_count": 130,
   "id": "47db39df-824d-492f-8cbf-ebb660bdd6fc",
   "metadata": {},
   "outputs": [
    {
     "data": {
      "text/plain": [
       "'\\nsplit\\narray_split\\nhsplit\\nvsplit\\n'"
      ]
     },
     "execution_count": 130,
     "metadata": {},
     "output_type": "execute_result"
    }
   ],
   "source": [
    "# splitiing\n",
    "\"\"\"\n",
    "split\n",
    "array_split\n",
    "hsplit\n",
    "vsplit\n",
    "\"\"\""
   ]
  },
  {
   "cell_type": "code",
   "execution_count": 131,
   "id": "f29869e4-eb03-41c8-9bac-063fdbbb7c89",
   "metadata": {},
   "outputs": [],
   "source": [
    "# It only splits when total number of elemnts are divisible by number of splits"
   ]
  },
  {
   "cell_type": "code",
   "execution_count": 132,
   "id": "fcf3e240-50b0-4d2e-a1fa-91c74cd36875",
   "metadata": {},
   "outputs": [
    {
     "name": "stdout",
     "output_type": "stream",
     "text": [
      "[[11 12 13 14 15 16 17 18 19 20]]\n"
     ]
    }
   ],
   "source": [
    "jj=np.split(vst_arr,2)\n",
    "jj\n",
    "print(jj[1])"
   ]
  },
  {
   "cell_type": "code",
   "execution_count": 133,
   "id": "a0f22a1f-94a6-48d8-ae59-2e8202162bb2",
   "metadata": {},
   "outputs": [],
   "source": [
    "# when the above condition is satisfied use array)_split it will adjust automatically"
   ]
  },
  {
   "cell_type": "code",
   "execution_count": 134,
   "id": "f6d80975-abf4-4683-a6ea-0be1fa429ada",
   "metadata": {},
   "outputs": [
    {
     "data": {
      "text/plain": [
       "[array([[ 1,  2,  3,  4,  5,  6,  7,  8,  9, 10]]),\n",
       " array([[11, 12, 13, 14, 15, 16, 17, 18, 19, 20]]),\n",
       " array([], shape=(0, 10), dtype=int32),\n",
       " array([], shape=(0, 10), dtype=int32),\n",
       " array([], shape=(0, 10), dtype=int32),\n",
       " array([], shape=(0, 10), dtype=int32),\n",
       " array([], shape=(0, 10), dtype=int32),\n",
       " array([], shape=(0, 10), dtype=int32)]"
      ]
     },
     "execution_count": 134,
     "metadata": {},
     "output_type": "execute_result"
    }
   ],
   "source": [
    "j=np.array_split(vst_arr,8)\n",
    "j"
   ]
  },
  {
   "cell_type": "code",
   "execution_count": 135,
   "id": "db233e93-9855-490b-80ec-5355e5901b71",
   "metadata": {},
   "outputs": [
    {
     "data": {
      "text/plain": [
       "[array([[ 1,  2,  3,  4,  5,  6,  7,  8,  9, 10]]),\n",
       " array([[11, 12, 13, 14, 15, 16, 17, 18, 19, 20]])]"
      ]
     },
     "execution_count": 135,
     "metadata": {},
     "output_type": "execute_result"
    }
   ],
   "source": [
    "xx=np.vsplit(vst_arr,2)\n",
    "xx"
   ]
  },
  {
   "cell_type": "markdown",
   "id": "f668be95-2210-43c0-bbaf-62576eb9a722",
   "metadata": {},
   "source": [
    "# Arithmetic OPerations and Functions"
   ]
  },
  {
   "cell_type": "code",
   "execution_count": 136,
   "id": "7e999cd6-fb80-4dfc-bbd0-86ddbdfb526a",
   "metadata": {},
   "outputs": [],
   "source": [
    "# VEctorization:_ OPeration can be executed in parallel on multiple elemnts of the array"
   ]
  },
  {
   "cell_type": "code",
   "execution_count": 137,
   "id": "35fc811b-07e1-46a7-b3df-12e7a0252c1d",
   "metadata": {},
   "outputs": [],
   "source": [
    "#Benefits:-\n",
    "# Higher performing code\n",
    "# Less verbose code\n",
    "# Better maintainability"
   ]
  },
  {
   "cell_type": "code",
   "execution_count": 138,
   "id": "ed7b4457-b8c3-4ad3-9233-c2283c5edc0f",
   "metadata": {},
   "outputs": [
    {
     "data": {
      "text/plain": [
       "' \\nWill cover following Operations\\nAddition\\nSubtraction\\nMultiplication\\nDivision\\nExponentiation\\nSpecific functions to perform them\\n'"
      ]
     },
     "execution_count": 138,
     "metadata": {},
     "output_type": "execute_result"
    }
   ],
   "source": [
    "\"\"\" \n",
    "Will cover following Operations\n",
    "Addition\n",
    "Subtraction\n",
    "Multiplication\n",
    "Division\n",
    "Exponentiation\n",
    "Specific functions to perform them\n",
    "\"\"\""
   ]
  },
  {
   "cell_type": "code",
   "execution_count": 139,
   "id": "925d2a68-804f-488b-b129-1fa037c4e8a7",
   "metadata": {},
   "outputs": [
    {
     "data": {
      "text/plain": [
       "array([12, 14, 16, 18, 20, 22, 24, 26, 28, 30])"
      ]
     },
     "execution_count": 139,
     "metadata": {},
     "output_type": "execute_result"
    }
   ],
   "source": [
    "a=np.arange(1,11)\n",
    "b=np.arange(11,21)\n",
    "a+b"
   ]
  },
  {
   "cell_type": "code",
   "execution_count": 140,
   "id": "67234dbf-4616-41c3-82ba-6f60eea6aefe",
   "metadata": {},
   "outputs": [
    {
     "data": {
      "text/plain": [
       "array([-10, -10, -10, -10, -10, -10, -10, -10, -10, -10])"
      ]
     },
     "execution_count": 140,
     "metadata": {},
     "output_type": "execute_result"
    }
   ],
   "source": [
    "a-b"
   ]
  },
  {
   "cell_type": "code",
   "execution_count": 141,
   "id": "a8fcd7b9-7058-45d9-8708-1231d10e221c",
   "metadata": {},
   "outputs": [
    {
     "data": {
      "text/plain": [
       "array([ 11,  24,  39,  56,  75,  96, 119, 144, 171, 200])"
      ]
     },
     "execution_count": 141,
     "metadata": {},
     "output_type": "execute_result"
    }
   ],
   "source": [
    "a*b\n"
   ]
  },
  {
   "cell_type": "code",
   "execution_count": 142,
   "id": "883bb26f-408e-413e-af4d-710b1f3b6aa4",
   "metadata": {},
   "outputs": [],
   "source": [
    "# * is known as asterisk"
   ]
  },
  {
   "cell_type": "code",
   "execution_count": 143,
   "id": "9c60fc7f-ae2f-4b96-be97-0eb0d8786fde",
   "metadata": {},
   "outputs": [
    {
     "data": {
      "text/plain": [
       "array([11.        ,  6.        ,  4.33333333,  3.5       ,  3.        ,\n",
       "        2.66666667,  2.42857143,  2.25      ,  2.11111111,  2.        ])"
      ]
     },
     "execution_count": 143,
     "metadata": {},
     "output_type": "execute_result"
    }
   ],
   "source": [
    "b/a"
   ]
  },
  {
   "cell_type": "code",
   "execution_count": 144,
   "id": "1e509703-9766-4671-acc9-78e964715f43",
   "metadata": {},
   "outputs": [
    {
     "data": {
      "text/plain": [
       "array([0, 0, 1, 2, 0, 4, 3, 2, 1, 0])"
      ]
     },
     "execution_count": 144,
     "metadata": {},
     "output_type": "execute_result"
    }
   ],
   "source": [
    "b%a\n"
   ]
  },
  {
   "cell_type": "code",
   "execution_count": 145,
   "id": "8974d26e-2d72-4aa3-b7c8-2e523170d10b",
   "metadata": {},
   "outputs": [
    {
     "data": {
      "text/plain": [
       "array([          1,        4096,     1594323,   268435456,   452807053,\n",
       "        -683606016, -2094633337,           0,  -400556711,  1661992960])"
      ]
     },
     "execution_count": 145,
     "metadata": {},
     "output_type": "execute_result"
    }
   ],
   "source": [
    "a**b # a power b"
   ]
  },
  {
   "cell_type": "code",
   "execution_count": 146,
   "id": "48a7ec92-947d-4e5a-b343-0bdfbe41d807",
   "metadata": {},
   "outputs": [
    {
     "data": {
      "text/plain": [
       "array([ 20,  40,  60,  80, 100, 120, 140, 160, 180, 200])"
      ]
     },
     "execution_count": 146,
     "metadata": {},
     "output_type": "execute_result"
    }
   ],
   "source": [
    "a*20"
   ]
  },
  {
   "cell_type": "code",
   "execution_count": 147,
   "id": "be4e01a1-fde8-465e-a7e9-90292eaee5dd",
   "metadata": {},
   "outputs": [
    {
     "data": {
      "text/plain": [
       "array([12, 14, 16, 18, 20, 22, 24, 26, 28, 30])"
      ]
     },
     "execution_count": 147,
     "metadata": {},
     "output_type": "execute_result"
    }
   ],
   "source": [
    "np.add(a,b)"
   ]
  },
  {
   "cell_type": "code",
   "execution_count": 148,
   "id": "9ec40b49-d57c-4384-bd47-932032db5fa8",
   "metadata": {},
   "outputs": [
    {
     "data": {
      "text/plain": [
       "array([10, 10, 10, 10, 10, 10, 10, 10, 10, 10])"
      ]
     },
     "execution_count": 148,
     "metadata": {},
     "output_type": "execute_result"
    }
   ],
   "source": [
    "np.subtract(b,a)"
   ]
  },
  {
   "cell_type": "code",
   "execution_count": 149,
   "id": "d0d0ae38-4460-48c5-a3a8-5bce26a70571",
   "metadata": {},
   "outputs": [
    {
     "data": {
      "text/plain": [
       "array([ 11,  24,  39,  56,  75,  96, 119, 144, 171, 200])"
      ]
     },
     "execution_count": 149,
     "metadata": {},
     "output_type": "execute_result"
    }
   ],
   "source": [
    "np.multiply(a,b)"
   ]
  },
  {
   "cell_type": "code",
   "execution_count": 150,
   "id": "a6ee691d-2f1c-429b-a41f-ed3f24c9dc8d",
   "metadata": {},
   "outputs": [
    {
     "data": {
      "text/plain": [
       "array([11.        ,  6.        ,  4.33333333,  3.5       ,  3.        ,\n",
       "        2.66666667,  2.42857143,  2.25      ,  2.11111111,  2.        ])"
      ]
     },
     "execution_count": 150,
     "metadata": {},
     "output_type": "execute_result"
    }
   ],
   "source": [
    "np.divide(b,a)"
   ]
  },
  {
   "cell_type": "code",
   "execution_count": 151,
   "id": "bc8305f1-2ca6-428c-9f32-6ca605f997bb",
   "metadata": {},
   "outputs": [
    {
     "data": {
      "text/plain": [
       "array([         11,         144,        2197,       38416,      759375,\n",
       "          16777216,   410338673, -1864941312,   565150579,   797966336])"
      ]
     },
     "execution_count": 151,
     "metadata": {},
     "output_type": "execute_result"
    }
   ],
   "source": [
    "np.power(b,a)"
   ]
  },
  {
   "cell_type": "code",
   "execution_count": 152,
   "id": "df08e256-ad0e-4802-aa90-055a8ef31997",
   "metadata": {},
   "outputs": [
    {
     "data": {
      "text/plain": [
       "array([0, 0, 1, 2, 0, 4, 3, 2, 1, 0])"
      ]
     },
     "execution_count": 152,
     "metadata": {},
     "output_type": "execute_result"
    }
   ],
   "source": [
    " np.mod(b,a)  # %"
   ]
  },
  {
   "cell_type": "code",
   "execution_count": 153,
   "id": "929d5371-0e98-45c7-84d0-cd21ff8e5eb2",
   "metadata": {},
   "outputs": [
    {
     "data": {
      "text/plain": [
       "array([1.        , 1.41421356, 1.73205081, 2.        , 2.23606798,\n",
       "       2.44948974, 2.64575131, 2.82842712, 3.        , 3.16227766])"
      ]
     },
     "execution_count": 153,
     "metadata": {},
     "output_type": "execute_result"
    }
   ],
   "source": [
    "np.sqrt(a)"
   ]
  },
  {
   "cell_type": "markdown",
   "id": "3d820d8f-64f0-412f-878d-049c8ab91cac",
   "metadata": {},
   "source": [
    "# Broadcasting"
   ]
  },
  {
   "cell_type": "code",
   "execution_count": 154,
   "id": "0739139d-4fcd-4fbd-b78d-64fa03f24495",
   "metadata": {},
   "outputs": [],
   "source": [
    "# When we need to apply arithmetic operations to arrays of different dimensions,\n",
    "#broadcasting helps to acheive that"
   ]
  },
  {
   "cell_type": "code",
   "execution_count": 155,
   "id": "ebe6c630-d08f-41c4-98f5-8648e457d21e",
   "metadata": {},
   "outputs": [],
   "source": [
    "# Subject to certain constraints, the smaller array is broadcast across the \n",
    "#larger array so that they have compatible shapes"
   ]
  },
  {
   "cell_type": "code",
   "execution_count": 156,
   "id": "54156895-bcab-42fe-94cd-6e8ecb15dee3",
   "metadata": {},
   "outputs": [
    {
     "name": "stdout",
     "output_type": "stream",
     "text": [
      "[[1 2 3]\n",
      " [4 5 6]\n",
      " [7 8 9]]\n",
      "[1 2 3]\n"
     ]
    }
   ],
   "source": [
    "ab=np.reshape(np.arange(1,10),(3,3))\n",
    "bb=np.arange(1,4)\n",
    "print(ab)\n",
    "print(bb)"
   ]
  },
  {
   "cell_type": "code",
   "execution_count": 157,
   "id": "7e4c9301-f6d0-465c-b0a7-45568482c0c4",
   "metadata": {},
   "outputs": [
    {
     "data": {
      "text/plain": [
       "array([[ 2,  4,  6],\n",
       "       [ 5,  7,  9],\n",
       "       [ 8, 10, 12]])"
      ]
     },
     "execution_count": 157,
     "metadata": {},
     "output_type": "execute_result"
    }
   ],
   "source": [
    "ab+bb ## bb is broadcasted to match dimensions of ab bb is copied two times then elemntwise addition"
   ]
  },
  {
   "cell_type": "code",
   "execution_count": 158,
   "id": "e336ca5a-004e-4eb8-bead-dd91476c73b2",
   "metadata": {},
   "outputs": [
    {
     "ename": "ValueError",
     "evalue": "operands could not be broadcast together with shapes (3,3) (2,) ",
     "output_type": "error",
     "traceback": [
      "\u001b[1;31m---------------------------------------------------------------------------\u001b[0m",
      "\u001b[1;31mValueError\u001b[0m                                Traceback (most recent call last)",
      "Cell \u001b[1;32mIn[158], line 2\u001b[0m\n\u001b[0;32m      1\u001b[0m cc\u001b[38;5;241m=\u001b[39mnp\u001b[38;5;241m.\u001b[39marange(\u001b[38;5;241m1\u001b[39m,\u001b[38;5;241m3\u001b[39m)\n\u001b[1;32m----> 2\u001b[0m ab\u001b[38;5;241m+\u001b[39mcc\n",
      "\u001b[1;31mValueError\u001b[0m: operands could not be broadcast together with shapes (3,3) (2,) "
     ]
    }
   ],
   "source": [
    "cc=np.arange(1,3)\n",
    "ab+cc # Atleast have same number of elemnts in row meaning atleast one dimension must be same"
   ]
  },
  {
   "cell_type": "code",
   "execution_count": null,
   "id": "a7d8cc8e-53e4-43f9-912d-f533a2cb12fd",
   "metadata": {},
   "outputs": [],
   "source": [
    "d=np.arange(24).reshape(2,3,4)\n",
    "e=np.arange(4)\n",
    "d+e"
   ]
  },
  {
   "cell_type": "code",
   "execution_count": null,
   "id": "dc3eaaf2-f1f9-4582-ab89-218ac6df2de1",
   "metadata": {},
   "outputs": [],
   "source": [
    "# Aggregate functions\n",
    "#takes array as input and returns scalar as output\n",
    "# These are statistics such as averages,standard deviation,function \n",
    "#for calculating sum and multiplication developments in array"
   ]
  },
  {
   "cell_type": "code",
   "execution_count": null,
   "id": "3a5ab25e-49e5-4b87-9260-fe5803c1be88",
   "metadata": {},
   "outputs": [],
   "source": [
    "print(d.sum())"
   ]
  },
  {
   "cell_type": "code",
   "execution_count": null,
   "id": "00816374-599d-479f-870f-57fb9cdddc9d",
   "metadata": {},
   "outputs": [],
   "source": [
    "#axis=0 means row\n",
    "#axis =1 means columns\n",
    "print(d.sum(axis=0))\n",
    "print(d.sum(axis=1))"
   ]
  },
  {
   "cell_type": "code",
   "execution_count": null,
   "id": "7a242ed4-db25-4f41-91a2-4d0f1e4bc9d1",
   "metadata": {},
   "outputs": [],
   "source": [
    "d.prod()"
   ]
  },
  {
   "cell_type": "code",
   "execution_count": null,
   "id": "ff423512-1b05-4c0e-a97c-68b5dee674be",
   "metadata": {},
   "outputs": [],
   "source": [
    "np.average(d)"
   ]
  },
  {
   "cell_type": "code",
   "execution_count": null,
   "id": "a5128301-7794-4684-be5e-e6212481200e",
   "metadata": {},
   "outputs": [],
   "source": [
    "np.mean(d)"
   ]
  },
  {
   "cell_type": "markdown",
   "id": "fc174e1c-94e3-4754-b2ea-a0c7ef0c3509",
   "metadata": {},
   "source": [
    "np.min(d)"
   ]
  },
  {
   "cell_type": "code",
   "execution_count": null,
   "id": "a0a21ffc-99ad-4271-9844-000426f07188",
   "metadata": {},
   "outputs": [],
   "source": [
    "np.std(d)"
   ]
  },
  {
   "cell_type": "markdown",
   "id": "98e9dff8-522b-4868-98d0-b5941214cc00",
   "metadata": {},
   "source": [
    "# How to get unique items and counts"
   ]
  },
  {
   "cell_type": "code",
   "execution_count": null,
   "id": "d485a483-875c-4788-8725-4dda1fe44dc6",
   "metadata": {},
   "outputs": [],
   "source": [
    "np.unique(d)"
   ]
  },
  {
   "cell_type": "code",
   "execution_count": null,
   "id": "e06df02b-bc82-4cdb-9622-0fb3d037fa19",
   "metadata": {},
   "outputs": [],
   "source": [
    "np.unique(d,axis=0)"
   ]
  },
  {
   "cell_type": "code",
   "execution_count": null,
   "id": "7f39e30f-fd3c-4d5e-b1e6-bf45d3543a23",
   "metadata": {},
   "outputs": [],
   "source": [
    "# Getting indices of unique elemnts\n"
   ]
  },
  {
   "cell_type": "code",
   "execution_count": null,
   "id": "8a08a84e-89fa-40c7-a57c-7e333a55d175",
   "metadata": {},
   "outputs": [],
   "source": [
    "np.unique(d,return_index=True)"
   ]
  },
  {
   "cell_type": "code",
   "execution_count": null,
   "id": "bb589bf3-ec41-4c3c-b6b6-ffcc516d87da",
   "metadata": {},
   "outputs": [],
   "source": [
    "\n",
    "# First array contains unique elements\n",
    "#Second array contains index of unique elemnts"
   ]
  },
  {
   "cell_type": "code",
   "execution_count": null,
   "id": "f3ffc936-1b3f-4914-925a-825969c2b226",
   "metadata": {},
   "outputs": [],
   "source": [
    "# calculating frequency of unique elemnts"
   ]
  },
  {
   "cell_type": "code",
   "execution_count": null,
   "id": "a9f14c31-7b49-4c6d-9bfa-3110da302e2c",
   "metadata": {},
   "outputs": [],
   "source": [
    "np.unique(d,return_counts=True)"
   ]
  },
  {
   "cell_type": "markdown",
   "id": "a7f6433f-ff88-48ef-a67e-324a7451f156",
   "metadata": {},
   "source": [
    "# TRanspose like operations, moveaxis, swap axis"
   ]
  },
  {
   "cell_type": "code",
   "execution_count": null,
   "id": "f098e782-e5ac-4381-a190-c19dacfd3b91",
   "metadata": {},
   "outputs": [],
   "source": [
    "np.transpose(d)"
   ]
  },
  {
   "cell_type": "code",
   "execution_count": null,
   "id": "a51239b5-60ec-462e-b388-8c7bfe8adec9",
   "metadata": {},
   "outputs": [],
   "source": [
    "np.transpose(e,axes=0)"
   ]
  },
  {
   "cell_type": "code",
   "execution_count": null,
   "id": "196c9200-17ae-43b2-96a8-a9bad7b5dea5",
   "metadata": {},
   "outputs": [],
   "source": [
    "dfd=np.reshape(np.arange(12),(3,4))\n",
    "np.transpose(dfd)"
   ]
  },
  {
   "cell_type": "code",
   "execution_count": null,
   "id": "adcc792b-7626-4adf-a2b5-7e32c0db1258",
   "metadata": {},
   "outputs": [],
   "source": [
    "# numpy.moveaxis(a,source,destination)\n",
    "# a array whose axes should be reordered\n",
    "# source: original position of the axes to move, These must be unique\n",
    "# destination : Destination positions for each of the original axes, These must be unique"
   ]
  },
  {
   "cell_type": "code",
   "execution_count": null,
   "id": "f8b8d0f3-e5ef-4d22-87ac-bc531bb1ba1c",
   "metadata": {},
   "outputs": [],
   "source": [
    "np.moveaxis(d,0,-1)"
   ]
  },
  {
   "cell_type": "code",
   "execution_count": null,
   "id": "20f49095-de14-4d56-a733-53d7b89734ee",
   "metadata": {},
   "outputs": [],
   "source": [
    "np.swapaxes(d,0,2)"
   ]
  },
  {
   "cell_type": "markdown",
   "id": "71eb38e5-ca78-4a45-8501-7af82f0f7e48",
   "metadata": {},
   "source": [
    "# Reversing an array"
   ]
  },
  {
   "cell_type": "code",
   "execution_count": null,
   "id": "382ee5c7-ca15-4375-b2b9-85aa068b323a",
   "metadata": {},
   "outputs": [],
   "source": [
    "a[::-1] # using indexing"
   ]
  },
  {
   "cell_type": "code",
   "execution_count": null,
   "id": "854f395f-562a-4abf-abba-2daa3a557d56",
   "metadata": {},
   "outputs": [],
   "source": [
    "#using flip function"
   ]
  },
  {
   "cell_type": "code",
   "execution_count": null,
   "id": "e7c3e841-c139-4763-8277-7ada50c6ad4a",
   "metadata": {},
   "outputs": [],
   "source": [
    "np.flip(a)"
   ]
  },
  {
   "cell_type": "code",
   "execution_count": null,
   "id": "b6e4ec87-72b4-4bbd-b22b-f4636c2c8f84",
   "metadata": {},
   "outputs": [],
   "source": [
    "np.flip(dfd,1)"
   ]
  },
  {
   "cell_type": "markdown",
   "id": "1808a5ef-c2dd-49d6-982c-ee958768ba12",
   "metadata": {},
   "source": [
    "# Universal Functions"
   ]
  },
  {
   "cell_type": "code",
   "execution_count": null,
   "id": "d458381f-bc42-4e1a-a8ea-63f1fbae7eec",
   "metadata": {},
   "outputs": [],
   "source": [
    "numbers=np.arange(1,11)\n",
    "numbers"
   ]
  },
  {
   "cell_type": "code",
   "execution_count": null,
   "id": "78b6f3cb-a237-49b5-8a04-a65d19fbf412",
   "metadata": {},
   "outputs": [],
   "source": [
    "np.sin(numbers)"
   ]
  },
  {
   "cell_type": "code",
   "execution_count": null,
   "id": "450f0e22-ecb8-4337-8e07-c44ef56bb67d",
   "metadata": {},
   "outputs": [],
   "source": [
    "np.log(numbers)"
   ]
  },
  {
   "cell_type": "raw",
   "id": "95a5b9ee-fec1-44aa-babd-58aca86d1fe0",
   "metadata": {},
   "source": [
    "# How to create your own function"
   ]
  },
  {
   "cell_type": "raw",
   "id": "6352959d-ecce-42c2-bab4-19700a6f213e",
   "metadata": {},
   "source": [
    "1. Use a def keyword to define a function\n",
    "2. Add created function to NumPy ufunc library using the frompyfunc() method\n",
    "3. Call this function over a NumPy array"
   ]
  },
  {
   "cell_type": "code",
   "execution_count": null,
   "id": "6a9062a2-171f-4fe5-a930-7a4f0c334988",
   "metadata": {},
   "outputs": [],
   "source": [
    "integers=np.arange(1,101)\n",
    "\n",
    "def modulo(val):\n",
    "    return (val%10)\n",
    "mod_10=np.frompyfunc(modulo,1,1)\n",
    "\n",
    "mod_integers=mod_10(integers)\n",
    "print(\"mod integers\",mod_integers)"
   ]
  },
  {
   "cell_type": "markdown",
   "id": "b8aab62d-dcbd-4f9b-806f-03f44ec71d41",
   "metadata": {},
   "source": [
    "# Strides"
   ]
  },
  {
   "cell_type": "code",
   "execution_count": null,
   "id": "93b51764-a822-4062-9268-f6c823519b3f",
   "metadata": {},
   "outputs": [],
   "source": [
    "numbers=np.arange(10,dtype=np.int8)\n",
    "numbers"
   ]
  },
  {
   "cell_type": "code",
   "execution_count": null,
   "id": "8db9231f-8fbe-44fd-ad08-71714b527106",
   "metadata": {},
   "outputs": [],
   "source": [
    "numbers.strides"
   ]
  },
  {
   "cell_type": "code",
   "execution_count": null,
   "id": "d49f44b0-457a-4698-b30f-9541ded0eac6",
   "metadata": {},
   "outputs": [],
   "source": [
    "numbers=numbers.reshape(2,5)\n",
    "numbers"
   ]
  },
  {
   "cell_type": "code",
   "execution_count": null,
   "id": "e5d818b4-4d7d-47a3-a4d3-b42c6662daf0",
   "metadata": {},
   "outputs": [],
   "source": [
    "numbers.strides"
   ]
  },
  {
   "cell_type": "code",
   "execution_count": null,
   "id": "f015f780-05c7-41a9-854c-1aaeb60e5623",
   "metadata": {},
   "outputs": [],
   "source": [
    "# need to jump 5 bytes to get to next row\n",
    "# need to jump 1 byte to get to next column"
   ]
  },
  {
   "cell_type": "code",
   "execution_count": null,
   "id": "419b34d2-3625-4b97-8736-568f993859ad",
   "metadata": {},
   "outputs": [],
   "source": [
    "first_array=np.zeros((100000,))\n",
    "first_array"
   ]
  },
  {
   "cell_type": "code",
   "execution_count": null,
   "id": "737d44ab-9a3d-4585-9d8e-d39e3d43b4c0",
   "metadata": {},
   "outputs": [],
   "source": [
    "second_array=np.zeros((100000*100,))[::100]\n",
    "second_array"
   ]
  },
  {
   "cell_type": "code",
   "execution_count": null,
   "id": "72c32fa7-f865-40b5-b37b-c25d5f1eff82",
   "metadata": {},
   "outputs": [],
   "source": [
    "first_array.shape"
   ]
  },
  {
   "cell_type": "code",
   "execution_count": null,
   "id": "711be3e4-60de-463d-acb5-7d136d88e8ed",
   "metadata": {},
   "outputs": [],
   "source": [
    "first_array.size"
   ]
  },
  {
   "cell_type": "code",
   "execution_count": null,
   "id": "7e72b045-d0ec-49bb-9fe5-7b407987b0de",
   "metadata": {},
   "outputs": [],
   "source": [
    "second_array.shape"
   ]
  },
  {
   "cell_type": "code",
   "execution_count": null,
   "id": "639c0d27-155a-4b2c-81b2-f49271207236",
   "metadata": {},
   "outputs": [],
   "source": [
    "first_array.strides"
   ]
  },
  {
   "cell_type": "code",
   "execution_count": null,
   "id": "cdd26135-64f7-4238-bde3-fde97215c458",
   "metadata": {},
   "outputs": [],
   "source": [
    "second_array.strides"
   ]
  },
  {
   "cell_type": "code",
   "execution_count": null,
   "id": "289ccaa1-1c27-429d-b91d-2d1d2f4b5c31",
   "metadata": {},
   "outputs": [],
   "source": [
    "%timeit first_array.sum()"
   ]
  },
  {
   "cell_type": "code",
   "execution_count": null,
   "id": "1803dca8-45ca-4e30-a7cf-23fe66382166",
   "metadata": {},
   "outputs": [],
   "source": [
    "%timeit second_array.sum()"
   ]
  },
  {
   "cell_type": "markdown",
   "id": "a074e163-db85-4a0c-9d9a-8c6c3212b376",
   "metadata": {},
   "source": [
    "# Dates and Time"
   ]
  },
  {
   "cell_type": "code",
   "execution_count": null,
   "id": "f4e0fe69-b0e8-4a89-95d0-7aa3218a5982",
   "metadata": {},
   "outputs": [],
   "source": [
    "# Time Series Analysis"
   ]
  },
  {
   "cell_type": "code",
   "execution_count": null,
   "id": "1d0f1d8c-2a2b-4bc4-8632-ad96142aeb62",
   "metadata": {},
   "outputs": [],
   "source": [
    "np.datetime64('2024-08-14')"
   ]
  },
  {
   "cell_type": "code",
   "execution_count": null,
   "id": "c39e9002-c67e-440e-811b-85ebf54e48ef",
   "metadata": {},
   "outputs": [],
   "source": [
    "np.datetime64('2024-08')"
   ]
  },
  {
   "cell_type": "code",
   "execution_count": null,
   "id": "6d629464-e8e7-43e0-a4aa-dd305496ca9a",
   "metadata": {},
   "outputs": [],
   "source": [
    "# counting weekdays using busday"
   ]
  },
  {
   "cell_type": "code",
   "execution_count": null,
   "id": "edae1361-fe63-44d3-8a89-57be06c243c1",
   "metadata": {},
   "outputs": [],
   "source": [
    "print('Number of weekdays in 2023:')\n",
    "print(np.busday_count('2023','2024'))"
   ]
  },
  {
   "cell_type": "code",
   "execution_count": null,
   "id": "71c1144a-1cc9-452c-bf96-4b4090a4e213",
   "metadata": {},
   "outputs": [],
   "source": [
    "print('Number of weekdays in 2023:')\n",
    "print(np.busday_count('2023-06','2023-07'))"
   ]
  },
  {
   "cell_type": "code",
   "execution_count": null,
   "id": "b3bcbe64-776f-4bc6-88f0-0a6a38a62b72",
   "metadata": {},
   "outputs": [],
   "source": [
    "# checking valid business day"
   ]
  },
  {
   "cell_type": "code",
   "execution_count": null,
   "id": "5d7e9bce-4c71-48d2-9afe-2f7f743b0200",
   "metadata": {},
   "outputs": [],
   "source": [
    "np.is_busday(np.datetime64('2024-06-05'))"
   ]
  },
  {
   "cell_type": "markdown",
   "id": "c553da57-477e-45f9-b9f3-e3a11ff9d9c7",
   "metadata": {},
   "source": [
    "# Linear Algebra Capabilities"
   ]
  },
  {
   "cell_type": "code",
   "execution_count": null,
   "id": "d9a88b6b-fcda-406a-b164-3068baf21f39",
   "metadata": {},
   "outputs": [],
   "source": [
    "firs=np.arange(16).reshape(4,4)"
   ]
  },
  {
   "cell_type": "code",
   "execution_count": null,
   "id": "8f4a93fa-27c2-4b2c-8f6a-2e88048d5954",
   "metadata": {},
   "outputs": [],
   "source": [
    "first_matrix=np.matrix(firs)\n",
    "first_matrix"
   ]
  },
  {
   "cell_type": "code",
   "execution_count": null,
   "id": "af1640ee-ebb9-463a-ae6e-820bbf5a84c4",
   "metadata": {},
   "outputs": [],
   "source": [
    "sec_matrix=np.matrix(np.identity(4))\n",
    "sec_matrix"
   ]
  },
  {
   "cell_type": "code",
   "execution_count": null,
   "id": "b6e063a9-7fd6-4faa-ae8c-cdb3872dd58e",
   "metadata": {},
   "outputs": [],
   "source": [
    "# matmul for matrix multiplication"
   ]
  },
  {
   "cell_type": "code",
   "execution_count": null,
   "id": "16ac0d5d-2f04-41d5-9ff3-30729341d856",
   "metadata": {},
   "outputs": [],
   "source": [
    "#Finding Inverse"
   ]
  },
  {
   "cell_type": "code",
   "execution_count": null,
   "id": "d5e54ba3-319b-4442-8895-de28670982d0",
   "metadata": {},
   "outputs": [],
   "source": [
    "ff=np.array([[3,4] ,[5,6]])\n",
    "thir_matrix=np.matrix(ff)\n",
    "inverse=np.linalg.inv(thir_matrix)\n",
    "inverse"
   ]
  },
  {
   "cell_type": "code",
   "execution_count": null,
   "id": "da91ae74-a797-4160-b259-4c2a7f5a65ff",
   "metadata": {},
   "outputs": [],
   "source": [
    "inverse*thir_matrix"
   ]
  },
  {
   "cell_type": "code",
   "execution_count": null,
   "id": "90b43ec9-0e27-44f2-bede-ba4b65c1116a",
   "metadata": {},
   "outputs": [],
   "source": [
    "# solve using \n",
    "#np.linalg.solve(A,b)"
   ]
  },
  {
   "cell_type": "markdown",
   "id": "fdcd4242-a1af-49bd-b2ee-314463d05dc9",
   "metadata": {},
   "source": [
    "# Matrix Decomposition"
   ]
  },
  {
   "cell_type": "code",
   "execution_count": null,
   "id": "6816a44b-7f29-443a-8d47-3c331271de54",
   "metadata": {},
   "outputs": [],
   "source": [
    "# Lower-upper decomposition (LU)\n",
    "# Singular Value Decomposition (SVD)\n",
    "# QR decomposition \n",
    "# Cholesky factorization"
   ]
  },
  {
   "cell_type": "code",
   "execution_count": null,
   "id": "dcf67c08-ea96-4ecc-ab57-77289e0a4a58",
   "metadata": {},
   "outputs": [],
   "source": [
    "#eigen values and eigen vector"
   ]
  },
  {
   "cell_type": "code",
   "execution_count": null,
   "id": "39a7b901-8d7e-49b4-9455-59cf8882d04b",
   "metadata": {},
   "outputs": [],
   "source": [
    "girst_matrix=np.matrix([[4,8],[10,14]])\n",
    "print(girst_matrix)"
   ]
  },
  {
   "cell_type": "code",
   "execution_count": null,
   "id": "ec756142-83e1-4006-8703-86107f7b4645",
   "metadata": {},
   "outputs": [],
   "source": [
    "eigenvalues,eigenvectors=np.linalg.eig(girst_matrix)\n",
    "print(eigenvalues)\n",
    "print(eigenvectors)"
   ]
  },
  {
   "cell_type": "code",
   "execution_count": null,
   "id": "0236c3e7-bdf6-4d34-8240-bfdc4dcc67bc",
   "metadata": {},
   "outputs": [],
   "source": [
    "eigenvalues=np.linalg.eigvals(girst_matrix)\n",
    "print(eigenvalues)"
   ]
  },
  {
   "cell_type": "code",
   "execution_count": null,
   "id": "60591c8d-e1a7-4ba9-bbd7-7ddd2e9458f1",
   "metadata": {},
   "outputs": [],
   "source": [
    "A=np.mat(\"3 1 4; 1 5 9;2 6 5\")\n",
    "print(A)\n",
    "U, Sigma, V =np.linalg.svd(A,full_matrices=False)\n",
    "print(U)\n",
    "print(\"SIgma:\",Sigma)\n",
    "print(V)"
   ]
  },
  {
   "cell_type": "code",
   "execution_count": null,
   "id": "662c4251-eb65-4342-a116-518054a59647",
   "metadata": {},
   "outputs": [],
   "source": [
    "# checking decomposition 's correctness"
   ]
  },
  {
   "cell_type": "code",
   "execution_count": null,
   "id": "095b9243-38fb-4e65-820f-c85b23b349f1",
   "metadata": {},
   "outputs": [],
   "source": [
    "print(U*np.diag(Sigma)*V)"
   ]
  },
  {
   "cell_type": "code",
   "execution_count": null,
   "id": "e6d45ef3-452d-4a4a-b11b-5eb260bcce8b",
   "metadata": {},
   "outputs": [],
   "source": [
    "# QR DEcomposition\n",
    "#M=Q*R\n",
    "# R is upper Triangular\n",
    "# Q is orthogonal Matrix"
   ]
  },
  {
   "cell_type": "code",
   "execution_count": null,
   "id": "631b822b-f49f-4993-8463-75067bca1f62",
   "metadata": {},
   "outputs": [],
   "source": [
    "b=np.array([1,2,3]).reshape(3,1)\n",
    "q,r =np.linalg.qr(A)\n",
    "x=np.dot(np.linalg.inv(r),np.dot(q.T,b))\n",
    "x"
   ]
  },
  {
   "cell_type": "markdown",
   "id": "154b6073-a497-4063-950b-d17fec899d6a",
   "metadata": {},
   "source": [
    "# Ploynomial Many-Terms"
   ]
  },
  {
   "cell_type": "code",
   "execution_count": null,
   "id": "08a44973-f13f-40d8-92ee-feefdd2623c5",
   "metadata": {},
   "outputs": [],
   "source": [
    "from numpy.polynomial import Polynomial"
   ]
  },
  {
   "cell_type": "code",
   "execution_count": null,
   "id": "186f9a31-18c5-4c6b-ac25-6b72780f2732",
   "metadata": {},
   "outputs": [],
   "source": [
    "first_polynomial=np.polynomial.Polynomial([2,-3,1])\n",
    "first_polynomial"
   ]
  },
  {
   "cell_type": "code",
   "execution_count": null,
   "id": "e4dc99c9-3570-4fc4-909d-97cb0f316fe0",
   "metadata": {},
   "outputs": [],
   "source": [
    "second_ploynomial=np.polynomial.Polynomial.fromroots([1,2])\n",
    "\n",
    "second_ploynomial"
   ]
  },
  {
   "cell_type": "code",
   "execution_count": null,
   "id": "a0eb43f8-603d-4a59-889d-2b2dd229669e",
   "metadata": {},
   "outputs": [],
   "source": [
    "# Finding roots\n"
   ]
  },
  {
   "cell_type": "code",
   "execution_count": null,
   "id": "24f249f6-c14d-481d-9d95-d7a5f2f45c51",
   "metadata": {},
   "outputs": [],
   "source": [
    "first_polynomial.roots()"
   ]
  },
  {
   "cell_type": "code",
   "execution_count": null,
   "id": "5d8aa8b3-5bd0-454d-835a-69470cd41010",
   "metadata": {},
   "outputs": [],
   "source": [
    "second_ploynomial.roots()"
   ]
  },
  {
   "cell_type": "code",
   "execution_count": null,
   "id": "f9b660bf-85aa-4953-8304-e1ed3327cdd8",
   "metadata": {},
   "outputs": [],
   "source": [
    "integral=second_ploynomial.integ()\n",
    "integral"
   ]
  },
  {
   "cell_type": "code",
   "execution_count": null,
   "id": "2018a3c3-1169-4d6c-8cf6-c1d2ccfccc68",
   "metadata": {},
   "outputs": [],
   "source": [
    "integral.deriv()"
   ]
  },
  {
   "cell_type": "markdown",
   "id": "01ec1ed3-948d-4616-acf9-026c8e65b164",
   "metadata": {},
   "source": [
    "# Linear Regression"
   ]
  },
  {
   "cell_type": "code",
   "execution_count": null,
   "id": "e1d4a820-27e2-4ade-96d0-8ffe9ab7ce1c",
   "metadata": {},
   "outputs": [],
   "source": [
    "# Used in Supervised machine learning "
   ]
  },
  {
   "cell_type": "code",
   "execution_count": null,
   "id": "09111f88-b304-4759-b84e-1c9e5fd26c2c",
   "metadata": {},
   "outputs": [],
   "source": []
  }
 ],
 "metadata": {
  "kernelspec": {
   "display_name": "Python 3 (ipykernel)",
   "language": "python",
   "name": "python3"
  },
  "language_info": {
   "codemirror_mode": {
    "name": "ipython",
    "version": 3
   },
   "file_extension": ".py",
   "mimetype": "text/x-python",
   "name": "python",
   "nbconvert_exporter": "python",
   "pygments_lexer": "ipython3",
   "version": "3.11.7"
  }
 },
 "nbformat": 4,
 "nbformat_minor": 5
}
