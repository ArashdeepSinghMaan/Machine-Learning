{
  "cells": [
    {
      "cell_type": "markdown",
      "metadata": {
        "id": "view-in-github",
        "colab_type": "text"
      },
      "source": [
        "<a href=\"https://colab.research.google.com/github/ArashdeepSinghMaan/Machine-Learning/blob/main/M23IRM003Lab123.ipynb\" target=\"_parent\"><img src=\"https://colab.research.google.com/assets/colab-badge.svg\" alt=\"Open In Colab\"/></a>"
      ]
    },
    {
      "cell_type": "markdown",
      "id": "c498d728-fa7d-4168-9da7-7a38f54bad42",
      "metadata": {
        "id": "c498d728-fa7d-4168-9da7-7a38f54bad42"
      },
      "source": [
        "# Problem 1\n"
      ]
    },
    {
      "cell_type": "raw",
      "id": "d3341fc8-5587-4ab2-8d7a-bc4e359e20e4",
      "metadata": {
        "id": "d3341fc8-5587-4ab2-8d7a-bc4e359e20e4"
      },
      "source": [
        "Lists and Loops: Write a Python function that takes a list of integers as\n",
        "input and returns the sum of all even numbers in the list."
      ]
    },
    {
      "cell_type": "code",
      "execution_count": null,
      "id": "2f1a5676-d3b9-4d3e-a5c6-44a05d49a5dd",
      "metadata": {
        "id": "2f1a5676-d3b9-4d3e-a5c6-44a05d49a5dd",
        "outputId": "47d40575-cc68-4566-c9ad-bbc9ec781ac9"
      },
      "outputs": [
        {
          "name": "stdout",
          "output_type": "stream",
          "text": [
            "Sum of even numbers given in input is : 32\n"
          ]
        }
      ],
      "source": [
        "import sys\n",
        "def main():\n",
        "\n",
        "    list=[11,4,3,4,5,6,7,8,9,10]\n",
        "    result=even_sum(list)\n",
        "    print(\"Sum of even numbers given in input is :\",result)\n",
        "\n",
        "def even_sum(list):\n",
        "     sum=0\n",
        "     for i in range(len(list)):\n",
        "          if int(list[i])%2 ==0:\n",
        "              sum=sum+list[i]\n",
        "\n",
        "     return sum\n",
        "\n",
        "if __name__==\"__main__\":\n",
        "    main()"
      ]
    },
    {
      "cell_type": "markdown",
      "id": "0a54b589-29f6-430d-8187-56a543a7faae",
      "metadata": {
        "id": "0a54b589-29f6-430d-8187-56a543a7faae"
      },
      "source": [
        "# Problem 2"
      ]
    },
    {
      "cell_type": "raw",
      "id": "085486c6-6d35-4022-8f0d-539d24fa175c",
      "metadata": {
        "id": "085486c6-6d35-4022-8f0d-539d24fa175c"
      },
      "source": [
        "List Comprehension: Given a list of words, create a new list containing\n",
        "the length of each word using list comprehension."
      ]
    },
    {
      "cell_type": "code",
      "execution_count": null,
      "id": "b4cc6e44-42e1-4860-8764-6e67901656fc",
      "metadata": {
        "id": "b4cc6e44-42e1-4860-8764-6e67901656fc",
        "outputId": "75d98cce-68c7-46df-d055-58b74a0338d1"
      },
      "outputs": [
        {
          "name": "stdout",
          "output_type": "stream",
          "text": [
            "[5, 3, 3, 3, 4, 4, 4, 7]\n"
          ]
        }
      ],
      "source": [
        "def main():\n",
        "    list=[\"apple\",\"new\",\"old\",\"FML\",\"list\",\"each\",\"word\",\"Premium\"]\n",
        "\n",
        "    compre(list)\n",
        "\n",
        "def compre(list):\n",
        "    num_list=[]\n",
        "    for i in range(len(list)):\n",
        "        num=len(list[i])\n",
        "        num_list.append(num)\n",
        "    print(num_list)\n",
        "\n",
        "if __name__==\"__main__\":\n",
        " main()"
      ]
    },
    {
      "cell_type": "markdown",
      "id": "d29b6fa8-c628-4e71-b057-26b1c0f5deaa",
      "metadata": {
        "id": "d29b6fa8-c628-4e71-b057-26b1c0f5deaa"
      },
      "source": [
        "# Problem 3"
      ]
    },
    {
      "cell_type": "raw",
      "id": "9b775bc7-f9fe-4509-8784-5fe80ce3b70e",
      "metadata": {
        "id": "9b775bc7-f9fe-4509-8784-5fe80ce3b70e"
      },
      "source": [
        "NumPy Array Operations: Given two NumPy arrays arr1 = np.array([1,\n",
        "2, 3]) and arr2 = np.array([4, 5, 6]), perform element-wise multiplication and\n",
        "store the result in a new array."
      ]
    },
    {
      "cell_type": "code",
      "execution_count": null,
      "id": "9ddd2b5c-b087-4d55-9962-e00fd7fc1186",
      "metadata": {
        "id": "9ddd2b5c-b087-4d55-9962-e00fd7fc1186",
        "outputId": "e51c25f5-723b-47c6-d966-72b1e338cd41"
      },
      "outputs": [
        {
          "name": "stdout",
          "output_type": "stream",
          "text": [
            "[ 4 10 18]\n"
          ]
        }
      ],
      "source": [
        "import numpy as np\n",
        "arr1=np.array([1,2,3])\n",
        "arr2=np.array([4,5,6])\n",
        "arr3=np.multiply(arr1,arr2)\n",
        "print(arr3)\n",
        ""
      ]
    },
    {
      "cell_type": "markdown",
      "id": "a27c1389-e9e2-4aeb-a0c2-5c2c4e05a3e2",
      "metadata": {
        "id": "a27c1389-e9e2-4aeb-a0c2-5c2c4e05a3e2"
      },
      "source": [
        "# Problem 4"
      ]
    },
    {
      "cell_type": "raw",
      "id": "16e15405-16e3-4708-91d3-2971f0abc0e9",
      "metadata": {
        "id": "16e15405-16e3-4708-91d3-2971f0abc0e9"
      },
      "source": [
        "NumPy Array Slicing: Given a NumPy array data = np.arange(1, 21),\n",
        "use array slicing to extract elements from index 5 to index 15."
      ]
    },
    {
      "cell_type": "code",
      "execution_count": null,
      "id": "d177894e-efc1-480b-9da5-8cdeeaab384b",
      "metadata": {
        "id": "d177894e-efc1-480b-9da5-8cdeeaab384b",
        "outputId": "cbde1b5c-62e7-4f41-db0c-97e8d8235678"
      },
      "outputs": [
        {
          "name": "stdout",
          "output_type": "stream",
          "text": [
            "[ 6  7  8  9 10 11 12 13 14 15 16]\n"
          ]
        }
      ],
      "source": [
        "import numpy as np\n",
        "data=np.arange(1,21)\n",
        "\n",
        "print(data[5:16])"
      ]
    },
    {
      "cell_type": "markdown",
      "id": "b2beb132-ab63-4811-b377-0ac678549327",
      "metadata": {
        "id": "b2beb132-ab63-4811-b377-0ac678549327"
      },
      "source": [
        "# Problem 5"
      ]
    },
    {
      "cell_type": "raw",
      "id": "2931a616-e0e9-41de-9a56-0ed2b842f97a",
      "metadata": {
        "id": "2931a616-e0e9-41de-9a56-0ed2b842f97a"
      },
      "source": [
        "Data Visualization with Matplotlib: Using Matplotlib, create a line\n",
        "plot to visualize the trend of a stock’s closing price over ten days (random\n",
        "data can be used)."
      ]
    },
    {
      "cell_type": "code",
      "execution_count": null,
      "id": "724c292a-32df-42d6-ac44-c85fbcbc5aa3",
      "metadata": {
        "id": "724c292a-32df-42d6-ac44-c85fbcbc5aa3",
        "outputId": "94b25710-8d94-437c-c51b-1b70fb2ac08a"
      },
      "outputs": [
        {
          "data": {
            "image/png": "[encoded data removed]",
            "text/plain": [
              "<Figure size 640x480 with 1 Axes>"
            ]
          },
          "metadata": {},
          "output_type": "display_data"
        }
      ],
      "source": [
        "import numpy as np\n",
        "import matplotlib.pyplot as plt\n",
        "closing_price=np.random.rand(10)\n",
        "plt.plot(closing_price)\n",
        "plt.xlabel(\"Days\")\n",
        "plt.ylabel(\"Closing price\")\n",
        "plt.title(\"Closing Price of stock over Ten Days\")\n",
        "plt.show()"
      ]
    },
    {
      "cell_type": "markdown",
      "id": "03d292a8-2f3f-4b94-bcb5-d7625b3e2fdf",
      "metadata": {
        "id": "03d292a8-2f3f-4b94-bcb5-d7625b3e2fdf"
      },
      "source": [
        "# Problem 6"
      ]
    },
    {
      "cell_type": "raw",
      "id": "b2a274ef-8ff6-4657-9d8d-65ec06c6ba06",
      "metadata": {
        "id": "b2a274ef-8ff6-4657-9d8d-65ec06c6ba06"
      },
      "source": [
        "Data Cleaning with Pandas: Given a Pandas DataFrame with a column\n",
        "containing missing values, write a Python function to replace those missing\n",
        "values with the mean of that column."
      ]
    },
    {
      "cell_type": "code",
      "execution_count": null,
      "id": "49c7bdf4-022b-47be-bf00-6a87de5ef50c",
      "metadata": {
        "id": "49c7bdf4-022b-47be-bf00-6a87de5ef50c"
      },
      "outputs": [],
      "source": [
        "import pandas as pd\n",
        "url='https://drive.google.com/file/d/19bm3biJ4ueiWA-amnGqsBofpNv5pg5-g/view?usp=drive_link'\n",
        "path = 'https://drive.google.com/uc?export=download&id='+url.split('/')[-2]\n",
        "fil=pd.read_csv(path)\n",
        "fil.info() # getting file info\n",
        "fil.columns\n",
        "fil.age\n",
        "print(fil.age.isna().sum()) # checking for missing entries\n",
        "fil.age.fillna(fil.age.mean()) # replacing missing entries with the mean of other entries for a column\n"
      ]
    },
    {
      "cell_type": "markdown",
      "id": "2df2bf96-5b25-4d22-a0c0-5608993aaac6",
      "metadata": {
        "id": "2df2bf96-5b25-4d22-a0c0-5608993aaac6"
      },
      "source": [
        "# Problem 7"
      ]
    },
    {
      "cell_type": "raw",
      "id": "746ec89d-f6a3-4a46-814f-1fcc0fc97f74",
      "metadata": {
        "id": "746ec89d-f6a3-4a46-814f-1fcc0fc97f74"
      },
      "source": [
        "Pandas DataFrame Filtering: Using Pandas, filter a DataFrame to only\n",
        "include rows where the ’age’ column is greater than 30 and the ’gender’\n",
        "column is ’female’."
      ]
    },
    {
      "cell_type": "code",
      "execution_count": null,
      "id": "b61f64cc-ed3f-4d60-bbb2-b1ac620d2a2a",
      "metadata": {
        "id": "b61f64cc-ed3f-4d60-bbb2-b1ac620d2a2a"
      },
      "outputs": [],
      "source": [
        "import pandas as pd\n",
        "url = 'https://drive.google.com/file/d/1vMRI3TqlHvAQJa8DMrZPoxob6sfkiExQ/view?usp=drive_link'\n",
        "path = 'https://drive.google.com/uc?export=download&id='+url.split('/')[-2]\n",
        "name=pd.read_csv(path)\n",
        "name.dtypes\n",
        "name.info()\n",
        "name[(name.age > 30) & (name.gender == 'female')]\n"
      ]
    },
    {
      "cell_type": "markdown",
      "id": "8c2f7231-8bd2-4db5-976e-97c88881a10a",
      "metadata": {
        "id": "8c2f7231-8bd2-4db5-976e-97c88881a10a"
      },
      "source": [
        "# Problem 8"
      ]
    },
    {
      "cell_type": "raw",
      "id": "c546fc72-b902-4fb6-8dcd-1ed13afc9bf6",
      "metadata": {
        "id": "c546fc72-b902-4fb6-8dcd-1ed13afc9bf6"
      },
      "source": [
        "Pandas Grouping: Given a DataFrame with columns ’Country’ and ’Population’,\n",
        "use Pandas to group the data by ’Country’ and calculate the average\n",
        "population for each country."
      ]
    },
    {
      "cell_type": "code",
      "execution_count": null,
      "id": "66b223f2-f2f9-4c2f-935e-df4968b019ab",
      "metadata": {
        "id": "66b223f2-f2f9-4c2f-935e-df4968b019ab"
      },
      "outputs": [],
      "source": [
        "import pandas as pd\n",
        "url = 'https://drive.google.com/file/d/1gkl3hEcUkwR7IVL-tKsRH3ZyLsqqnOpz/view?usp=drive_link'\n",
        "path = 'https://drive.google.com/uc?export=download&id='+url.split('/')[-2]\n",
        "file = pd.read_csv(path)\n",
        "\n",
        "#print(file.head())\n",
        "aver=file.groupby(['Country','Population']).mean()\n",
        "print(aver)"
      ]
    },
    {
      "cell_type": "markdown",
      "id": "2dcb37b5-a8f4-483b-8d69-2c3680dbb55b",
      "metadata": {
        "id": "2dcb37b5-a8f4-483b-8d69-2c3680dbb55b"
      },
      "source": [
        "# Problem 9"
      ]
    },
    {
      "cell_type": "raw",
      "id": "cbb66a22-ddc4-4509-a321-a52766c212e1",
      "metadata": {
        "id": "cbb66a22-ddc4-4509-a321-a52766c212e1"
      },
      "source": [
        "Data Visualization with Seaborn: Using Seaborn, create a box plot to\n",
        "visualize the distribution of ages for different ’Species’ in a DataFrame"
      ]
    },
    {
      "cell_type": "code",
      "execution_count": null,
      "id": "6af3009a-db6a-4e93-bc1a-a9a5f5d483c5",
      "metadata": {
        "id": "6af3009a-db6a-4e93-bc1a-a9a5f5d483c5"
      },
      "outputs": [],
      "source": [
        "import seaborn as sns\n",
        "import pandas as pd\n",
        "url = 'https://drive.google.com/file/d/1y1AJ6K-LKNmlyNl3QdgW-ThYo4r2YADn/view?usp=drive_link'\n",
        "path = 'https://drive.google.com/uc?export=download&id='+url.split('/')[-2]\n",
        "file=pd.read_csv(path)\n",
        "file.columns\n",
        "sns.boxplot(data=file,x='Life span (maximum)',y='Entity',color=\".8\", linewidth=1.75)"
      ]
    },
    {
      "cell_type": "markdown",
      "id": "02125d1e-c8a7-4648-b1ff-0e0fc5928ddb",
      "metadata": {
        "id": "02125d1e-c8a7-4648-b1ff-0e0fc5928ddb"
      },
      "source": [
        "# Problem 10"
      ]
    },
    {
      "cell_type": "raw",
      "id": "5ad92c75-0289-4fdd-890d-04fa00f81ac2",
      "metadata": {
        "id": "5ad92c75-0289-4fdd-890d-04fa00f81ac2"
      },
      "source": [
        "Data Manipulation with Pandas: Given a Pandas DataFrame containing\n",
        "columns ’Sales’ and ’Expenses’, create a new column ’Profit’ that calculates\n",
        "the profit as ’Sales’ minus ’Expenses’."
      ]
    },
    {
      "cell_type": "code",
      "execution_count": null,
      "id": "e8be7030-120a-4dca-82a2-de80d94a7e9d",
      "metadata": {
        "id": "e8be7030-120a-4dca-82a2-de80d94a7e9d"
      },
      "outputs": [],
      "source": [
        "import pandas as pd\n",
        "url = 'https://drive.google.com/file/d/1kpBfnz9VitYKv0JNrFtmlySP0xYcI2Ok/view?usp=drive_link'\n",
        "path = 'https://drive.google.com/uc?export=download&id='+url.split('/')[-2]\n",
        "file=pd.read_csv(path)\n",
        "file.shape\n",
        "file[\"Profit\"]=file[\"Sales\"] - file[\"Expenses\"]\n",
        "file.head()"
      ]
    },
    {
      "cell_type": "markdown",
      "id": "c46fde15-9178-422b-a7ef-83df524bfa19",
      "metadata": {
        "id": "c46fde15-9178-422b-a7ef-83df524bfa19"
      },
      "source": [
        "# Problem 11"
      ]
    },
    {
      "cell_type": "raw",
      "id": "00cace0f-030f-41b7-89db-de088561596a",
      "metadata": {
        "id": "00cace0f-030f-41b7-89db-de088561596a"
      },
      "source": [
        "Dictionary Manipulation: Given a dictionary phonebook containing names\n",
        "as keys and phone numbers as values, write a function to find and return the\n",
        "name(s) of the person(s) with the maximum phone number(s)."
      ]
    },
    {
      "cell_type": "code",
      "execution_count": null,
      "id": "8ef4be10-52cc-419b-a865-948e8f34b680",
      "metadata": {
        "id": "8ef4be10-52cc-419b-a865-948e8f34b680"
      },
      "outputs": [],
      "source": [
        "def main():\n",
        "    di={\"parag\":[9876029370,8146895443] ,\"Swapnil\":8146143620,\"HArshit\" :8146895443,\"Chaitanya\":9856123236,\"Nishant\":6542137891,\n",
        "       \"Arash\":9465681251,\"Amreen\":[6256218541,9815143832,1634292810]}\n",
        "    print(\"Person with maximum phone numbers:\",max_phone(di))\n",
        "def max_phone(di):\n",
        "    max=0\n",
        "    names=[]\n",
        "    for name,value in di.items():\n",
        "     if isinstance(value,list):\n",
        "        if len(value)>=max:\n",
        "             max=len(value)\n",
        "             names=[name]\n",
        "        elif len(value) == max:\n",
        "                names.append(name)\n",
        "    return names\n",
        "\n",
        "\n",
        "if __name__==\"__main__\":\n",
        "    main()"
      ]
    },
    {
      "cell_type": "markdown",
      "id": "a64cf439-57c8-4ced-9cc3-534b4d0a117a",
      "metadata": {
        "id": "a64cf439-57c8-4ced-9cc3-534b4d0a117a"
      },
      "source": [
        "# Problem 12\n"
      ]
    },
    {
      "cell_type": "raw",
      "id": "a4c995b9-1908-4f1b-9810-8c4124b837f3",
      "metadata": {
        "id": "a4c995b9-1908-4f1b-9810-8c4124b837f3"
      },
      "source": [
        "Functions and Recursion: Write a recursive Python function to calculate\n",
        "the factorial of a given positive integer"
      ]
    },
    {
      "cell_type": "code",
      "execution_count": null,
      "id": "8809fd9a-1d6f-4ad4-ab4e-eb1db9393406",
      "metadata": {
        "id": "8809fd9a-1d6f-4ad4-ab4e-eb1db9393406"
      },
      "outputs": [],
      "source": [
        "def main():\n",
        "    num=int(input(\"Enter a Positive Number:\"))\n",
        "    result=factorial(num)\n",
        "    print(\"Factorial of\",num ,\"is :\",result)\n",
        "def factorial(num):\n",
        "    facto=1\n",
        "    for i in range(num):\n",
        "        facto=facto*num\n",
        "        num=num-1\n",
        "    return facto\n",
        "if __name__==\"__main__\":\n",
        "    main()"
      ]
    },
    {
      "cell_type": "markdown",
      "id": "0e84e01a-7c56-42f9-a726-e083a887fd7d",
      "metadata": {
        "id": "0e84e01a-7c56-42f9-a726-e083a887fd7d"
      },
      "source": [
        "# Problem 13"
      ]
    },
    {
      "cell_type": "raw",
      "id": "e80c6172-149d-4f16-971c-72dabe3177b2",
      "metadata": {
        "id": "e80c6172-149d-4f16-971c-72dabe3177b2"
      },
      "source": [
        "File Handling: Read a text file named “data.txt” that contains one number\n",
        "per line. Write a Python script to calculate the sum of all the numbers and\n",
        "print the result. (Create your own file)"
      ]
    },
    {
      "cell_type": "code",
      "execution_count": null,
      "id": "10b00aa7-23dc-4c37-af1d-2cbfdb17a015",
      "metadata": {
        "id": "10b00aa7-23dc-4c37-af1d-2cbfdb17a015"
      },
      "outputs": [],
      "source": [
        "def main():\n",
        "    file_path = \"text.txt.txt\"\n",
        "\n",
        "    with open(file_path, \"r\") as file:\n",
        "            numbers = [int(line.strip()) for line in file]\n",
        "            print(numbers)\n",
        "            total_sum = sum(numbers)\n",
        "            print(f\"Sum of numbers in 'data.txt': {total_sum:.2f}\")\n",
        "\n",
        "\n",
        "if __name__==\"__main__\":\n",
        "    main()"
      ]
    },
    {
      "cell_type": "markdown",
      "id": "0a72a7e9-ce61-412c-be5b-a2ccfae3675f",
      "metadata": {
        "id": "0a72a7e9-ce61-412c-be5b-a2ccfae3675f"
      },
      "source": [
        "# Problem 14"
      ]
    },
    {
      "cell_type": "raw",
      "id": "08a3183c-d058-42c2-bbcb-9592ca9b68ff",
      "metadata": {
        "id": "08a3183c-d058-42c2-bbcb-9592ca9b68ff"
      },
      "source": [
        "Object-Oriented Programming: Create a class Rectangle with attributes\n",
        "width and height, and methods to calculate the area and perimeter. Test\n",
        "the class by creating objects and performing calculations"
      ]
    },
    {
      "cell_type": "code",
      "execution_count": null,
      "id": "f24051c2-3ddb-4650-80ac-5d13a4b86bb6",
      "metadata": {
        "id": "f24051c2-3ddb-4650-80ac-5d13a4b86bb6"
      },
      "outputs": [],
      "source": [
        "\n",
        "class Rectangle:\n",
        "    def __init__(self,Height,Width):\n",
        "         self.Height=Height\n",
        "         self.Width=Width\n",
        "    def Area(self):\n",
        "            print(\"Area\",self.Height*self.Width)\n",
        "    def Perimeter(self):\n",
        "            print( \"Perimeter\",2*(self.Height+self.Width))\n",
        "\n",
        "s1=Rectangle(10,29)\n",
        "s1.Area()\n",
        "s1.Perimeter()\n",
        "\n",
        "s2=Rectangle(30,40)\n",
        "s2.Area()\n",
        "s2.Perimeter()"
      ]
    },
    {
      "cell_type": "markdown",
      "id": "cfcefaf3-3836-4d78-be8a-90c02dc4a8a1",
      "metadata": {
        "id": "cfcefaf3-3836-4d78-be8a-90c02dc4a8a1"
      },
      "source": [
        "# Problem 15\n"
      ]
    },
    {
      "cell_type": "raw",
      "id": "e98aff3d-d4e5-4b23-a2d4-8f574af2da30",
      "metadata": {
        "id": "e98aff3d-d4e5-4b23-a2d4-8f574af2da30"
      },
      "source": [
        "Numpy Array Manipulation: Create a 3×3 identity matrix using NumPy\n",
        "and then convert it into a 1D array.\n"
      ]
    },
    {
      "cell_type": "code",
      "execution_count": null,
      "id": "48450708-3145-499c-aeed-08f48f772221",
      "metadata": {
        "id": "48450708-3145-499c-aeed-08f48f772221"
      },
      "outputs": [],
      "source": [
        "import numpy as np\n",
        "IDEn=np.eye(3,3)\n",
        "#print(IDEn)\n",
        "new_=IDEn.reshape(9)\n",
        "print(new_)\n"
      ]
    },
    {
      "cell_type": "markdown",
      "id": "1c810df6-9fdf-4d3a-a5e6-7a7b7ad81883",
      "metadata": {
        "id": "1c810df6-9fdf-4d3a-a5e6-7a7b7ad81883"
      },
      "source": [
        "# Problem 16"
      ]
    },
    {
      "cell_type": "raw",
      "id": "04cc049c-ebc3-4552-8d56-aa64b27b3ea7",
      "metadata": {
        "id": "04cc049c-ebc3-4552-8d56-aa64b27b3ea7"
      },
      "source": [
        "Data Visualization with Matplotlib: Using Matplotlib, create a bar\n",
        "chart to compare the average scores of students in three different subjects"
      ]
    },
    {
      "cell_type": "code",
      "execution_count": null,
      "id": "742dd28c-5ac0-4880-a523-72e4cd53ec6e",
      "metadata": {
        "id": "742dd28c-5ac0-4880-a523-72e4cd53ec6e"
      },
      "outputs": [],
      "source": [
        "import matplotlib.pyplot as plt\n",
        "students=[\"parag\",\"Swapnil\",\"Harshit\",\"Chaitanya\",\"Nishant\"]\n",
        "scores=[80,85,96,87,63]\n",
        "plt.bar(students,scores,width=0.3)\n",
        "plt.ylabel(\"Average Marks\")\n",
        "plt.xlabel(\"Name of Students\")\n",
        "plt.title(\"Average Marks\")"
      ]
    },
    {
      "cell_type": "markdown",
      "id": "8bbe2e9d-4196-4ea1-8d38-b501419584c7",
      "metadata": {
        "id": "8bbe2e9d-4196-4ea1-8d38-b501419584c7"
      },
      "source": [
        "# Problem 17"
      ]
    },
    {
      "cell_type": "raw",
      "id": "cc45ff8d-6b48-4fab-849a-1097be559e37",
      "metadata": {
        "id": "cc45ff8d-6b48-4fab-849a-1097be559e37"
      },
      "source": [
        "Plotting Using Matplotlib, plot the following functions: (a) y = 5x + 4\n",
        "where x ∈ [−1, 1], (b) y = ln(x) where x > 10 and x < 100, (c) y = x2\n",
        "where x ∈ [−10, 10] (d) y = 1\n",
        "1+ex where x ∈ [−1, 1]."
      ]
    },
    {
      "cell_type": "code",
      "execution_count": null,
      "id": "3f57aa86-5b46-4488-b770-8b56c6ff9d8e",
      "metadata": {
        "id": "3f57aa86-5b46-4488-b770-8b56c6ff9d8e"
      },
      "outputs": [],
      "source": [
        "import numpy as np\n",
        "import matplotlib.pyplot as plt\n",
        "\n",
        "x = np.linspace(-1, 2, 100)\n",
        "y = 5 * x + 4\n",
        "\n",
        "x_1 = np.linspace(11, 100, 100)\n",
        "y_1 = np.log(x_1)\n",
        "\n",
        "x_2 = np.linspace(-10, 10, 100)\n",
        "y_2 = x_2 * x_2\n",
        "\n",
        "x_3 = np.linspace(-1, 1, 100)\n",
        "y_3 = 1 / (1 + np.exp(x_3))\n",
        "\n",
        "fig, (ax1, ax2, ax3, ax4) = plt.subplots(4,figsize=(10,8))\n",
        "fig.suptitle('4 subplots')\n",
        "\n",
        "ax1.plot(x, y, 'r')\n",
        "ax1.set_ylabel(\"5*x+4\")\n",
        "\n",
        "ax2.plot(x_1, y_1, 'g')\n",
        "ax2.set_ylabel(\"x^2\")\n",
        "ax3.plot(x_2, y_2, 'y')\n",
        "ax3.set_ylabel(\"ln(x)\")\n",
        "ax4.plot(x_3, y_3, 'b')\n",
        "ax4.set_ylabel(\"1 / (1 +exp(x))\")\n",
        "\n",
        "plt.show()\n"
      ]
    },
    {
      "cell_type": "markdown",
      "id": "92304d1b-21b9-4745-a6d4-404669184ce9",
      "metadata": {
        "id": "92304d1b-21b9-4745-a6d4-404669184ce9"
      },
      "source": [
        "# Problem 18"
      ]
    },
    {
      "cell_type": "raw",
      "id": "d90b09b3-a391-4d25-aa03-67f00761e54a",
      "metadata": {
        "id": "d90b09b3-a391-4d25-aa03-67f00761e54a"
      },
      "source": [
        "Nearest neighbour: Given a 2D-point and an array of 2D-points, find out\n",
        "three nearest neighbour."
      ]
    },
    {
      "cell_type": "code",
      "execution_count": null,
      "id": "a90f4e1b-841c-4a7d-a061-54ecb94a8c82",
      "metadata": {
        "id": "a90f4e1b-841c-4a7d-a061-54ecb94a8c82"
      },
      "outputs": [],
      "source": [
        "import numpy as np\n",
        "import math\n",
        "\n",
        "target_point = (1, 2)\n",
        "points = [(4, 6), (1, 2), (0, 3), (2, 3), (5, 5), (3, 4)]\n",
        "arr=np.array(points)\n",
        "rows=np.arange(np.shape(arr)[0])\n",
        "columns=np.arange(np.shape(arr)[1])\n",
        "\n",
        "list=[]\n",
        "for i in rows:\n",
        "       distance=math.sqrt((arr[i,0]-target_point[0])**2 + (arr[i,1]-target_point[1])**2 )\n",
        "       list.append((distance, (arr[i, 0], arr[i, 1])))\n",
        "\n",
        "print(list)\n",
        "list.sort(key=lambda x: x[0])\n",
        "three_nearest_points = list[:3]\n",
        "print(three_nearest_points)\n",
        "print(\"Distances and Points:\")\n",
        "for dist, point in three_nearest_points:\n",
        "    print(f\"Distance: {dist}, Point: {point}\")\n",
        "\n"
      ]
    },
    {
      "cell_type": "markdown",
      "id": "5fb9ec62-2106-4839-a66e-a57d2597fdbf",
      "metadata": {
        "id": "5fb9ec62-2106-4839-a66e-a57d2597fdbf"
      },
      "source": [
        "# Problem 19"
      ]
    },
    {
      "cell_type": "raw",
      "id": "503146e9-4643-4285-9c03-854132b6d73a",
      "metadata": {
        "id": "503146e9-4643-4285-9c03-854132b6d73a"
      },
      "source": [
        "Dictionary Create a dictionary namely MARKS which stores marks of five\n",
        "of your friends. Find out the mean and max marks. List all those friends\n",
        "name whose marks are greater than mean marks"
      ]
    },
    {
      "cell_type": "code",
      "execution_count": null,
      "id": "89d67867-73d0-47cd-8f1d-78f4d85bb28b",
      "metadata": {
        "id": "89d67867-73d0-47cd-8f1d-78f4d85bb28b"
      },
      "outputs": [],
      "source": [
        "import numpy as np\n",
        "marks={\"Parag\":90,\"Swapnil\":91,\"HArshit\":92,\"Kranti\":93,\"Chaitanya\":94}\n",
        "total=0\n",
        "for val in marks.values():\n",
        "    total=total+val\n",
        "\n",
        "mean=total/len(marks)\n",
        "print(\"Mean Marks:\",mean)\n",
        "print(\"Maximum Marks:\",max(marks.values()))\n",
        "list=[]\n",
        "for name,val in marks.items():\n",
        "    if  val > mean:\n",
        "      list.append(name)\n",
        "print(list)\n",
        ""
      ]
    },
    {
      "cell_type": "markdown",
      "id": "eb10bbb3-9e40-4133-92e1-cd4c39d33b49",
      "metadata": {
        "id": "eb10bbb3-9e40-4133-92e1-cd4c39d33b49"
      },
      "source": [
        "# Problem 20"
      ]
    },
    {
      "cell_type": "raw",
      "id": "5552e58e-52f8-4dc8-bb62-75be16c79242",
      "metadata": {
        "id": "5552e58e-52f8-4dc8-bb62-75be16c79242"
      },
      "source": [
        "Image Processing Read your passport size image. Using openCV library\n",
        "show its edgemap."
      ]
    },
    {
      "cell_type": "code",
      "execution_count": null,
      "id": "0ff55523-9cae-4da0-b657-63e46a432528",
      "metadata": {
        "id": "0ff55523-9cae-4da0-b657-63e46a432528"
      },
      "outputs": [],
      "source": [
        "import cv2\n",
        "import matplotlib.pyplot as plt\n",
        "\n",
        "image = cv2.imread('-wf044a_2.jpg')\n",
        "\n",
        "\n",
        "if image is None:\n",
        "    print(\"Error: Image not found!\")\n",
        "else:\n",
        "\n",
        "    gray_image = cv2.cvtColor(image, cv2.COLOR_BGR2GRAY)\n",
        "\n",
        "\n",
        "    edges = cv2.Canny(gray_image, 50, 100)\n",
        "\n",
        "\n",
        "    plt.figure(figsize=(10, 5))\n",
        "\n",
        "    # Show original image\n",
        "    plt.subplot(1, 2, 1)\n",
        "    plt.imshow(cv2.cvtColor(image, cv2.COLOR_BGR2RGB))\n",
        "    plt.title('Original Image')\n",
        "    plt.axis('off')\n",
        "\n",
        "    # Show edge map\n",
        "    plt.subplot(1, 2, 2)\n",
        "    plt.imshow(edges, cmap='gray')\n",
        "    plt.title('Edge Map')\n",
        "    plt.axis('off')\n",
        "\n",
        "    # Display both images\n",
        "    plt.show()\n"
      ]
    },
    {
      "cell_type": "code",
      "execution_count": null,
      "id": "d08a5379-dc7d-41fd-9ad3-d85a5633c251",
      "metadata": {
        "id": "d08a5379-dc7d-41fd-9ad3-d85a5633c251"
      },
      "outputs": [],
      "source": []
    }
  ],
  "metadata": {
    "kernelspec": {
      "display_name": "Python (GPU)",
      "language": "python",
      "name": "gpu_env"
    },
    "language_info": {
      "codemirror_mode": {
        "name": "ipython",
        "version": 3
      },
      "file_extension": ".py",
      "mimetype": "text/x-python",
      "name": "python",
      "nbconvert_exporter": "python",
      "pygments_lexer": "ipython3",
      "version": "3.11.7"
    },
    "colab": {
      "provenance": [],
      "include_colab_link": true
    }
  },
  "nbformat": 4,
  "nbformat_minor": 5
}